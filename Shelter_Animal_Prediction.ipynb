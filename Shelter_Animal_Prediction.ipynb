{
 "cells": [
  {
   "cell_type": "markdown",
   "metadata": {},
   "source": [
    "# Importing Data "
   ]
  },
  {
   "cell_type": "code",
   "execution_count": 4,
   "metadata": {
    "ExecuteTime": {
     "end_time": "2020-04-05T23:10:09.467840Z",
     "start_time": "2020-04-05T23:10:09.463872Z"
    }
   },
   "outputs": [],
   "source": [
    "import pandas as pd\n",
    "import numpy as np\n",
    "import seaborn as sns\n",
    "from matplotlib import pyplot as plt"
   ]
  },
  {
   "cell_type": "code",
   "execution_count": 5,
   "metadata": {
    "ExecuteTime": {
     "end_time": "2020-04-05T23:10:10.061064Z",
     "start_time": "2020-04-05T23:10:09.919668Z"
    }
   },
   "outputs": [],
   "source": [
    "train_df =  pd.read_csv(\"train.csv\")\n",
    "test_df = pd.read_csv(\"test.csv\")"
   ]
  },
  {
   "cell_type": "code",
   "execution_count": 6,
   "metadata": {
    "ExecuteTime": {
     "end_time": "2020-04-05T23:10:11.093309Z",
     "start_time": "2020-04-05T23:10:11.063865Z"
    }
   },
   "outputs": [
    {
     "data": {
      "text/html": [
       "<div>\n",
       "<style scoped>\n",
       "    .dataframe tbody tr th:only-of-type {\n",
       "        vertical-align: middle;\n",
       "    }\n",
       "\n",
       "    .dataframe tbody tr th {\n",
       "        vertical-align: top;\n",
       "    }\n",
       "\n",
       "    .dataframe thead th {\n",
       "        text-align: right;\n",
       "    }\n",
       "</style>\n",
       "<table border=\"1\" class=\"dataframe\">\n",
       "  <thead>\n",
       "    <tr style=\"text-align: right;\">\n",
       "      <th></th>\n",
       "      <th>AnimalID</th>\n",
       "      <th>Name</th>\n",
       "      <th>DateTime</th>\n",
       "      <th>OutcomeType</th>\n",
       "      <th>OutcomeSubtype</th>\n",
       "      <th>AnimalType</th>\n",
       "      <th>SexuponOutcome</th>\n",
       "      <th>AgeuponOutcome</th>\n",
       "      <th>Breed</th>\n",
       "      <th>Color</th>\n",
       "    </tr>\n",
       "  </thead>\n",
       "  <tbody>\n",
       "    <tr>\n",
       "      <th>0</th>\n",
       "      <td>A671945</td>\n",
       "      <td>Hambone</td>\n",
       "      <td>2014-02-12 18:22:00</td>\n",
       "      <td>Return_to_owner</td>\n",
       "      <td>NaN</td>\n",
       "      <td>Dog</td>\n",
       "      <td>Neutered Male</td>\n",
       "      <td>1 year</td>\n",
       "      <td>Shetland Sheepdog Mix</td>\n",
       "      <td>Brown/White</td>\n",
       "    </tr>\n",
       "    <tr>\n",
       "      <th>1</th>\n",
       "      <td>A656520</td>\n",
       "      <td>Emily</td>\n",
       "      <td>2013-10-13 12:44:00</td>\n",
       "      <td>Euthanasia</td>\n",
       "      <td>Suffering</td>\n",
       "      <td>Cat</td>\n",
       "      <td>Spayed Female</td>\n",
       "      <td>1 year</td>\n",
       "      <td>Domestic Shorthair Mix</td>\n",
       "      <td>Cream Tabby</td>\n",
       "    </tr>\n",
       "    <tr>\n",
       "      <th>2</th>\n",
       "      <td>A686464</td>\n",
       "      <td>Pearce</td>\n",
       "      <td>2015-01-31 12:28:00</td>\n",
       "      <td>Adoption</td>\n",
       "      <td>Foster</td>\n",
       "      <td>Dog</td>\n",
       "      <td>Neutered Male</td>\n",
       "      <td>2 years</td>\n",
       "      <td>Pit Bull Mix</td>\n",
       "      <td>Blue/White</td>\n",
       "    </tr>\n",
       "    <tr>\n",
       "      <th>3</th>\n",
       "      <td>A683430</td>\n",
       "      <td>NaN</td>\n",
       "      <td>2014-07-11 19:09:00</td>\n",
       "      <td>Transfer</td>\n",
       "      <td>Partner</td>\n",
       "      <td>Cat</td>\n",
       "      <td>Intact Male</td>\n",
       "      <td>3 weeks</td>\n",
       "      <td>Domestic Shorthair Mix</td>\n",
       "      <td>Blue Cream</td>\n",
       "    </tr>\n",
       "    <tr>\n",
       "      <th>4</th>\n",
       "      <td>A667013</td>\n",
       "      <td>NaN</td>\n",
       "      <td>2013-11-15 12:52:00</td>\n",
       "      <td>Transfer</td>\n",
       "      <td>Partner</td>\n",
       "      <td>Dog</td>\n",
       "      <td>Neutered Male</td>\n",
       "      <td>2 years</td>\n",
       "      <td>Lhasa Apso/Miniature Poodle</td>\n",
       "      <td>Tan</td>\n",
       "    </tr>\n",
       "  </tbody>\n",
       "</table>\n",
       "</div>"
      ],
      "text/plain": [
       "  AnimalID     Name             DateTime      OutcomeType OutcomeSubtype  \\\n",
       "0  A671945  Hambone  2014-02-12 18:22:00  Return_to_owner            NaN   \n",
       "1  A656520    Emily  2013-10-13 12:44:00       Euthanasia      Suffering   \n",
       "2  A686464   Pearce  2015-01-31 12:28:00         Adoption         Foster   \n",
       "3  A683430      NaN  2014-07-11 19:09:00         Transfer        Partner   \n",
       "4  A667013      NaN  2013-11-15 12:52:00         Transfer        Partner   \n",
       "\n",
       "  AnimalType SexuponOutcome AgeuponOutcome                        Breed  \\\n",
       "0        Dog  Neutered Male         1 year        Shetland Sheepdog Mix   \n",
       "1        Cat  Spayed Female         1 year       Domestic Shorthair Mix   \n",
       "2        Dog  Neutered Male        2 years                 Pit Bull Mix   \n",
       "3        Cat    Intact Male        3 weeks       Domestic Shorthair Mix   \n",
       "4        Dog  Neutered Male        2 years  Lhasa Apso/Miniature Poodle   \n",
       "\n",
       "         Color  \n",
       "0  Brown/White  \n",
       "1  Cream Tabby  \n",
       "2   Blue/White  \n",
       "3   Blue Cream  \n",
       "4          Tan  "
      ]
     },
     "execution_count": 6,
     "metadata": {},
     "output_type": "execute_result"
    }
   ],
   "source": [
    "train_df.head()"
   ]
  },
  {
   "cell_type": "code",
   "execution_count": 7,
   "metadata": {
    "ExecuteTime": {
     "end_time": "2020-04-05T23:10:12.515205Z",
     "start_time": "2020-04-05T23:10:12.497242Z"
    }
   },
   "outputs": [
    {
     "data": {
      "text/html": [
       "<div>\n",
       "<style scoped>\n",
       "    .dataframe tbody tr th:only-of-type {\n",
       "        vertical-align: middle;\n",
       "    }\n",
       "\n",
       "    .dataframe tbody tr th {\n",
       "        vertical-align: top;\n",
       "    }\n",
       "\n",
       "    .dataframe thead th {\n",
       "        text-align: right;\n",
       "    }\n",
       "</style>\n",
       "<table border=\"1\" class=\"dataframe\">\n",
       "  <thead>\n",
       "    <tr style=\"text-align: right;\">\n",
       "      <th></th>\n",
       "      <th>ID</th>\n",
       "      <th>Name</th>\n",
       "      <th>DateTime</th>\n",
       "      <th>AnimalType</th>\n",
       "      <th>SexuponOutcome</th>\n",
       "      <th>AgeuponOutcome</th>\n",
       "      <th>Breed</th>\n",
       "      <th>Color</th>\n",
       "    </tr>\n",
       "  </thead>\n",
       "  <tbody>\n",
       "    <tr>\n",
       "      <th>0</th>\n",
       "      <td>1</td>\n",
       "      <td>Summer</td>\n",
       "      <td>2015-10-12 12:15:00</td>\n",
       "      <td>Dog</td>\n",
       "      <td>Intact Female</td>\n",
       "      <td>10 months</td>\n",
       "      <td>Labrador Retriever Mix</td>\n",
       "      <td>Red/White</td>\n",
       "    </tr>\n",
       "    <tr>\n",
       "      <th>1</th>\n",
       "      <td>2</td>\n",
       "      <td>Cheyenne</td>\n",
       "      <td>2014-07-26 17:59:00</td>\n",
       "      <td>Dog</td>\n",
       "      <td>Spayed Female</td>\n",
       "      <td>2 years</td>\n",
       "      <td>German Shepherd/Siberian Husky</td>\n",
       "      <td>Black/Tan</td>\n",
       "    </tr>\n",
       "    <tr>\n",
       "      <th>2</th>\n",
       "      <td>3</td>\n",
       "      <td>Gus</td>\n",
       "      <td>2016-01-13 12:20:00</td>\n",
       "      <td>Cat</td>\n",
       "      <td>Neutered Male</td>\n",
       "      <td>1 year</td>\n",
       "      <td>Domestic Shorthair Mix</td>\n",
       "      <td>Brown Tabby</td>\n",
       "    </tr>\n",
       "    <tr>\n",
       "      <th>3</th>\n",
       "      <td>4</td>\n",
       "      <td>Pongo</td>\n",
       "      <td>2013-12-28 18:12:00</td>\n",
       "      <td>Dog</td>\n",
       "      <td>Intact Male</td>\n",
       "      <td>4 months</td>\n",
       "      <td>Collie Smooth Mix</td>\n",
       "      <td>Tricolor</td>\n",
       "    </tr>\n",
       "    <tr>\n",
       "      <th>4</th>\n",
       "      <td>5</td>\n",
       "      <td>Skooter</td>\n",
       "      <td>2015-09-24 17:59:00</td>\n",
       "      <td>Dog</td>\n",
       "      <td>Neutered Male</td>\n",
       "      <td>2 years</td>\n",
       "      <td>Miniature Poodle Mix</td>\n",
       "      <td>White</td>\n",
       "    </tr>\n",
       "  </tbody>\n",
       "</table>\n",
       "</div>"
      ],
      "text/plain": [
       "   ID      Name             DateTime AnimalType SexuponOutcome AgeuponOutcome  \\\n",
       "0   1    Summer  2015-10-12 12:15:00        Dog  Intact Female      10 months   \n",
       "1   2  Cheyenne  2014-07-26 17:59:00        Dog  Spayed Female        2 years   \n",
       "2   3       Gus  2016-01-13 12:20:00        Cat  Neutered Male         1 year   \n",
       "3   4     Pongo  2013-12-28 18:12:00        Dog    Intact Male       4 months   \n",
       "4   5   Skooter  2015-09-24 17:59:00        Dog  Neutered Male        2 years   \n",
       "\n",
       "                            Breed        Color  \n",
       "0          Labrador Retriever Mix    Red/White  \n",
       "1  German Shepherd/Siberian Husky    Black/Tan  \n",
       "2          Domestic Shorthair Mix  Brown Tabby  \n",
       "3               Collie Smooth Mix     Tricolor  \n",
       "4            Miniature Poodle Mix        White  "
      ]
     },
     "execution_count": 7,
     "metadata": {},
     "output_type": "execute_result"
    }
   ],
   "source": [
    "test_df.head()"
   ]
  },
  {
   "cell_type": "code",
   "execution_count": 8,
   "metadata": {
    "ExecuteTime": {
     "end_time": "2020-04-05T23:10:20.206038Z",
     "start_time": "2020-04-05T23:10:20.195972Z"
    }
   },
   "outputs": [
    {
     "data": {
      "text/plain": [
       "(26729, 10)"
      ]
     },
     "execution_count": 8,
     "metadata": {},
     "output_type": "execute_result"
    }
   ],
   "source": [
    "train_df.shape"
   ]
  },
  {
   "cell_type": "code",
   "execution_count": 9,
   "metadata": {
    "ExecuteTime": {
     "end_time": "2020-04-05T23:10:20.731795Z",
     "start_time": "2020-04-05T23:10:20.707849Z"
    }
   },
   "outputs": [
    {
     "name": "stdout",
     "output_type": "stream",
     "text": [
      "7691\n",
      "0.2877399079651315\n"
     ]
    }
   ],
   "source": [
    "#Null values name\n",
    "print(sum(train_df[\"Name\"].isna()))\n",
    "print(np.mean(train_df[\"Name\"].isna()))"
   ]
  },
  {
   "cell_type": "markdown",
   "metadata": {},
   "source": [
    "# Cleaning Data"
   ]
  },
  {
   "cell_type": "code",
   "execution_count": 10,
   "metadata": {
    "ExecuteTime": {
     "end_time": "2020-04-05T23:10:30.847763Z",
     "start_time": "2020-04-05T23:10:30.842661Z"
    }
   },
   "outputs": [],
   "source": [
    "train_new = train_df.copy()"
   ]
  },
  {
   "cell_type": "code",
   "execution_count": 11,
   "metadata": {
    "ExecuteTime": {
     "end_time": "2020-04-05T23:10:32.192971Z",
     "start_time": "2020-04-05T23:10:32.184414Z"
    }
   },
   "outputs": [
    {
     "data": {
      "text/plain": [
       "Index(['AnimalID', 'Name', 'DateTime', 'OutcomeType', 'OutcomeSubtype',\n",
       "       'AnimalType', 'SexuponOutcome', 'AgeuponOutcome', 'Breed', 'Color'],\n",
       "      dtype='object')"
      ]
     },
     "execution_count": 11,
     "metadata": {},
     "output_type": "execute_result"
    }
   ],
   "source": [
    "train_new.columns"
   ]
  },
  {
   "cell_type": "markdown",
   "metadata": {},
   "source": [
    "## Dropping ID"
   ]
  },
  {
   "cell_type": "code",
   "execution_count": 12,
   "metadata": {
    "ExecuteTime": {
     "end_time": "2020-04-05T23:10:35.552412Z",
     "start_time": "2020-04-05T23:10:35.540703Z"
    }
   },
   "outputs": [],
   "source": [
    "train_new.drop(\"AnimalID\", axis = 1, inplace = True)"
   ]
  },
  {
   "cell_type": "markdown",
   "metadata": {},
   "source": [
    "## Creating NameFlag"
   ]
  },
  {
   "cell_type": "code",
   "execution_count": 13,
   "metadata": {
    "ExecuteTime": {
     "end_time": "2020-04-05T23:10:37.259579Z",
     "start_time": "2020-04-05T23:10:37.226846Z"
    }
   },
   "outputs": [],
   "source": [
    "train_new[\"NameFlag\"] = [0 if str(x) == 'nan' else 1 for x in train_df['Name']]"
   ]
  },
  {
   "cell_type": "code",
   "execution_count": 14,
   "metadata": {
    "ExecuteTime": {
     "end_time": "2020-04-05T23:10:37.687279Z",
     "start_time": "2020-04-05T23:10:37.674081Z"
    }
   },
   "outputs": [],
   "source": [
    "train_new.drop(\"Name\", axis = 1, inplace = True)"
   ]
  },
  {
   "cell_type": "markdown",
   "metadata": {},
   "source": [
    "## Dropping DataTime"
   ]
  },
  {
   "cell_type": "code",
   "execution_count": 15,
   "metadata": {
    "ExecuteTime": {
     "end_time": "2020-04-05T23:10:39.391163Z",
     "start_time": "2020-04-05T23:10:39.380772Z"
    }
   },
   "outputs": [],
   "source": [
    "train_new.drop(\"DateTime\", axis =1, inplace = True)"
   ]
  },
  {
   "cell_type": "markdown",
   "metadata": {},
   "source": [
    "## Check Outcome's distribution"
   ]
  },
  {
   "cell_type": "code",
   "execution_count": 16,
   "metadata": {
    "ExecuteTime": {
     "end_time": "2020-04-05T23:10:41.108367Z",
     "start_time": "2020-04-05T23:10:41.086823Z"
    }
   },
   "outputs": [
    {
     "name": "stdout",
     "output_type": "stream",
     "text": [
      "0\n"
     ]
    },
    {
     "data": {
      "text/plain": [
       "Adoption           10769\n",
       "Transfer            9422\n",
       "Return_to_owner     4786\n",
       "Euthanasia          1555\n",
       "Died                 197\n",
       "Name: OutcomeType, dtype: int64"
      ]
     },
     "execution_count": 16,
     "metadata": {},
     "output_type": "execute_result"
    }
   ],
   "source": [
    "#Count of each outcome \n",
    "print(sum(train_new[\"OutcomeType\"].isna()))\n",
    "train_new[\"OutcomeType\"].value_counts()"
   ]
  },
  {
   "cell_type": "markdown",
   "metadata": {},
   "source": [
    "## Drop OutcomeSubtype"
   ]
  },
  {
   "cell_type": "code",
   "execution_count": 17,
   "metadata": {
    "ExecuteTime": {
     "end_time": "2020-04-05T23:10:48.470425Z",
     "start_time": "2020-04-05T23:10:48.450799Z"
    }
   },
   "outputs": [
    {
     "name": "stdout",
     "output_type": "stream",
     "text": [
      "0.5092596056717423\n"
     ]
    },
    {
     "data": {
      "text/plain": [
       "Partner                7816\n",
       "Foster                 1800\n",
       "SCRP                   1599\n",
       "Suffering              1002\n",
       "Aggressive              320\n",
       "Offsite                 165\n",
       "In Kennel               114\n",
       "Behavior                 86\n",
       "Rabies Risk              74\n",
       "Medical                  66\n",
       "In Foster                52\n",
       "Enroute                   8\n",
       "Court/Investigation       6\n",
       "At Vet                    4\n",
       "In Surgery                3\n",
       "Barn                      2\n",
       "Name: OutcomeSubtype, dtype: int64"
      ]
     },
     "execution_count": 17,
     "metadata": {},
     "output_type": "execute_result"
    }
   ],
   "source": [
    "#Count of each subtype of outcome\n",
    "print(np.mean(train_new[\"OutcomeSubtype\"].isna()))\n",
    "train_new[\"OutcomeSubtype\"].value_counts()"
   ]
  },
  {
   "cell_type": "markdown",
   "metadata": {},
   "source": [
    "We drop outcome subtypes because:<bR>\n",
    "- 50% of the outcome subtypes are missing hence we drop this columns <br>\n",
    "- It's a subtype of outcome which we do not have for making predictions in the test data"
   ]
  },
  {
   "cell_type": "code",
   "execution_count": 18,
   "metadata": {
    "ExecuteTime": {
     "end_time": "2020-04-05T23:10:53.424297Z",
     "start_time": "2020-04-05T23:10:53.416034Z"
    }
   },
   "outputs": [],
   "source": [
    "train_new.drop(\"OutcomeSubtype\", axis = 1, inplace = True)"
   ]
  },
  {
   "cell_type": "markdown",
   "metadata": {},
   "source": [
    "## Check AnimalType's distribution"
   ]
  },
  {
   "cell_type": "code",
   "execution_count": 19,
   "metadata": {
    "ExecuteTime": {
     "end_time": "2020-04-05T23:10:57.067683Z",
     "start_time": "2020-04-05T23:10:57.052594Z"
    }
   },
   "outputs": [
    {
     "data": {
      "text/plain": [
       "Dog    15595\n",
       "Cat    11134\n",
       "Name: AnimalType, dtype: int64"
      ]
     },
     "execution_count": 19,
     "metadata": {},
     "output_type": "execute_result"
    }
   ],
   "source": [
    "train_new[\"AnimalType\"].value_counts()"
   ]
  },
  {
   "cell_type": "markdown",
   "metadata": {},
   "source": [
    "## Check SexuponOutcome"
   ]
  },
  {
   "cell_type": "code",
   "execution_count": 20,
   "metadata": {
    "ExecuteTime": {
     "end_time": "2020-04-05T23:10:59.909766Z",
     "start_time": "2020-04-05T23:10:59.896611Z"
    }
   },
   "outputs": [
    {
     "data": {
      "text/plain": [
       "Neutered Male    9779\n",
       "Spayed Female    8820\n",
       "Intact Male      3525\n",
       "Intact Female    3511\n",
       "Unknown          1093\n",
       "Name: SexuponOutcome, dtype: int64"
      ]
     },
     "execution_count": 20,
     "metadata": {},
     "output_type": "execute_result"
    }
   ],
   "source": [
    "train_new[\"SexuponOutcome\"].value_counts()"
   ]
  },
  {
   "cell_type": "code",
   "execution_count": 21,
   "metadata": {
    "ExecuteTime": {
     "end_time": "2020-04-05T23:11:01.407980Z",
     "start_time": "2020-04-05T23:11:01.392606Z"
    }
   },
   "outputs": [
    {
     "name": "stdout",
     "output_type": "stream",
     "text": [
      "0\n",
      "1380\n"
     ]
    }
   ],
   "source": [
    "print(sum(train_new[\"Breed\"].isna()))\n",
    "print(train_new[\"Breed\"].nunique())"
   ]
  },
  {
   "cell_type": "markdown",
   "metadata": {},
   "source": [
    "## Normalize age"
   ]
  },
  {
   "cell_type": "code",
   "execution_count": 22,
   "metadata": {
    "ExecuteTime": {
     "end_time": "2020-04-05T23:11:06.761254Z",
     "start_time": "2020-04-05T23:11:06.752688Z"
    }
   },
   "outputs": [],
   "source": [
    "def clean_age(x):\n",
    "    x = str(x)\n",
    "    age_new = x\n",
    "    if x == 'nan':\n",
    "        return np.nan\n",
    "    elif (x.split(' ')[1]) in ['year','years']:\n",
    "        age_new = int(x.split(' ')[0])*365\n",
    "    elif (x.split(' ')[1]) in ['month','months']:\n",
    "        age_new = int(x.split(' ')[0])*30\n",
    "    elif (x.split(' ')[1]) in ['weeks']:\n",
    "        age_new = int(x.split(' ')[0])*7\n",
    "    else:\n",
    "        age_new =  int(x.split(' ')[0])\n",
    "    return round(age_new/365,1)"
   ]
  },
  {
   "cell_type": "code",
   "execution_count": 23,
   "metadata": {
    "ExecuteTime": {
     "end_time": "2020-04-05T23:11:08.060815Z",
     "start_time": "2020-04-05T23:11:07.981305Z"
    }
   },
   "outputs": [],
   "source": [
    "train_new['AgeuponOutcome'] = train_new['AgeuponOutcome'].apply(clean_age)\n",
    "median = np.median(train_new.loc[~(train_new['AgeuponOutcome'].isna()),'AgeuponOutcome'])\n",
    "train_new['AgeuponOutcome'] =  train_new['AgeuponOutcome'].fillna(median)"
   ]
  },
  {
   "cell_type": "code",
   "execution_count": 24,
   "metadata": {
    "ExecuteTime": {
     "end_time": "2020-04-05T23:11:08.243814Z",
     "start_time": "2020-04-05T23:11:08.224865Z"
    }
   },
   "outputs": [
    {
     "data": {
      "text/html": [
       "<div>\n",
       "<style scoped>\n",
       "    .dataframe tbody tr th:only-of-type {\n",
       "        vertical-align: middle;\n",
       "    }\n",
       "\n",
       "    .dataframe tbody tr th {\n",
       "        vertical-align: top;\n",
       "    }\n",
       "\n",
       "    .dataframe thead th {\n",
       "        text-align: right;\n",
       "    }\n",
       "</style>\n",
       "<table border=\"1\" class=\"dataframe\">\n",
       "  <thead>\n",
       "    <tr style=\"text-align: right;\">\n",
       "      <th></th>\n",
       "      <th>OutcomeType</th>\n",
       "      <th>AnimalType</th>\n",
       "      <th>SexuponOutcome</th>\n",
       "      <th>AgeuponOutcome</th>\n",
       "      <th>Breed</th>\n",
       "      <th>Color</th>\n",
       "      <th>NameFlag</th>\n",
       "    </tr>\n",
       "  </thead>\n",
       "  <tbody>\n",
       "    <tr>\n",
       "      <th>0</th>\n",
       "      <td>Return_to_owner</td>\n",
       "      <td>Dog</td>\n",
       "      <td>Neutered Male</td>\n",
       "      <td>1.0</td>\n",
       "      <td>Shetland Sheepdog Mix</td>\n",
       "      <td>Brown/White</td>\n",
       "      <td>1</td>\n",
       "    </tr>\n",
       "    <tr>\n",
       "      <th>1</th>\n",
       "      <td>Euthanasia</td>\n",
       "      <td>Cat</td>\n",
       "      <td>Spayed Female</td>\n",
       "      <td>1.0</td>\n",
       "      <td>Domestic Shorthair Mix</td>\n",
       "      <td>Cream Tabby</td>\n",
       "      <td>1</td>\n",
       "    </tr>\n",
       "    <tr>\n",
       "      <th>2</th>\n",
       "      <td>Adoption</td>\n",
       "      <td>Dog</td>\n",
       "      <td>Neutered Male</td>\n",
       "      <td>2.0</td>\n",
       "      <td>Pit Bull Mix</td>\n",
       "      <td>Blue/White</td>\n",
       "      <td>1</td>\n",
       "    </tr>\n",
       "    <tr>\n",
       "      <th>3</th>\n",
       "      <td>Transfer</td>\n",
       "      <td>Cat</td>\n",
       "      <td>Intact Male</td>\n",
       "      <td>0.1</td>\n",
       "      <td>Domestic Shorthair Mix</td>\n",
       "      <td>Blue Cream</td>\n",
       "      <td>0</td>\n",
       "    </tr>\n",
       "    <tr>\n",
       "      <th>4</th>\n",
       "      <td>Transfer</td>\n",
       "      <td>Dog</td>\n",
       "      <td>Neutered Male</td>\n",
       "      <td>2.0</td>\n",
       "      <td>Lhasa Apso/Miniature Poodle</td>\n",
       "      <td>Tan</td>\n",
       "      <td>0</td>\n",
       "    </tr>\n",
       "  </tbody>\n",
       "</table>\n",
       "</div>"
      ],
      "text/plain": [
       "       OutcomeType AnimalType SexuponOutcome  AgeuponOutcome  \\\n",
       "0  Return_to_owner        Dog  Neutered Male             1.0   \n",
       "1       Euthanasia        Cat  Spayed Female             1.0   \n",
       "2         Adoption        Dog  Neutered Male             2.0   \n",
       "3         Transfer        Cat    Intact Male             0.1   \n",
       "4         Transfer        Dog  Neutered Male             2.0   \n",
       "\n",
       "                         Breed        Color  NameFlag  \n",
       "0        Shetland Sheepdog Mix  Brown/White         1  \n",
       "1       Domestic Shorthair Mix  Cream Tabby         1  \n",
       "2                 Pit Bull Mix   Blue/White         1  \n",
       "3       Domestic Shorthair Mix   Blue Cream         0  \n",
       "4  Lhasa Apso/Miniature Poodle          Tan         0  "
      ]
     },
     "execution_count": 24,
     "metadata": {},
     "output_type": "execute_result"
    }
   ],
   "source": [
    "train_new.head()"
   ]
  },
  {
   "cell_type": "markdown",
   "metadata": {},
   "source": [
    "## Handle Breed  - Create a sparse matrix for counts and check for top features"
   ]
  },
  {
   "cell_type": "code",
   "execution_count": 28,
   "metadata": {
    "ExecuteTime": {
     "end_time": "2020-04-05T23:23:10.159790Z",
     "start_time": "2020-04-05T23:23:10.155634Z"
    }
   },
   "outputs": [],
   "source": [
    "from sklearn.feature_extraction.text import CountVectorizer\n",
    "from sklearn.linear_model import LogisticRegression\n",
    "from sklearn.model_selection import train_test_split"
   ]
  },
  {
   "cell_type": "code",
   "execution_count": 29,
   "metadata": {
    "ExecuteTime": {
     "end_time": "2020-04-05T23:23:10.424269Z",
     "start_time": "2020-04-05T23:23:10.409955Z"
    }
   },
   "outputs": [],
   "source": [
    "X_train, X_test, y_train, y_test = train_test_split(train_new[\"Breed\"], train_new[\"OutcomeType\"])"
   ]
  },
  {
   "cell_type": "code",
   "execution_count": 30,
   "metadata": {
    "ExecuteTime": {
     "end_time": "2020-04-05T23:23:10.933880Z",
     "start_time": "2020-04-05T23:23:10.619782Z"
    }
   },
   "outputs": [],
   "source": [
    "fit_v = CountVectorizer(min_df = 10, max_df = 0.8, ngram_range = (1,3)).fit(X_train)"
   ]
  },
  {
   "cell_type": "code",
   "execution_count": 31,
   "metadata": {
    "ExecuteTime": {
     "end_time": "2020-04-05T23:23:11.378627Z",
     "start_time": "2020-04-05T23:23:10.935594Z"
    }
   },
   "outputs": [],
   "source": [
    "X_train_v = fit_v.transform(X_train)\n",
    "X_test_v = fit_v.transform(X_test)"
   ]
  },
  {
   "cell_type": "code",
   "execution_count": 32,
   "metadata": {
    "ExecuteTime": {
     "end_time": "2020-04-05T23:23:13.567286Z",
     "start_time": "2020-04-05T23:23:11.380090Z"
    }
   },
   "outputs": [
    {
     "data": {
      "text/plain": [
       "LogisticRegression(C=100, class_weight=None, dual=False, fit_intercept=True,\n",
       "                   intercept_scaling=1, l1_ratio=None, max_iter=100,\n",
       "                   multi_class='ovr', n_jobs=None, penalty='l2',\n",
       "                   random_state=None, solver='liblinear', tol=0.0001, verbose=0,\n",
       "                   warm_start=False)"
      ]
     },
     "execution_count": 32,
     "metadata": {},
     "output_type": "execute_result"
    }
   ],
   "source": [
    "lr= LogisticRegression(C= 100,solver= \"liblinear\", multi_class = \"ovr\")\n",
    "lr.fit(X_train_v, y_train)"
   ]
  },
  {
   "cell_type": "code",
   "execution_count": 33,
   "metadata": {
    "ExecuteTime": {
     "end_time": "2020-04-05T23:23:13.608492Z",
     "start_time": "2020-04-05T23:23:13.573095Z"
    }
   },
   "outputs": [
    {
     "data": {
      "text/plain": [
       "0.45204249588508155"
      ]
     },
     "execution_count": 33,
     "metadata": {},
     "output_type": "execute_result"
    }
   ],
   "source": [
    "lr.score(X_test_v, y_test)"
   ]
  },
  {
   "cell_type": "markdown",
   "metadata": {},
   "source": [
    "**Top features**"
   ]
  },
  {
   "cell_type": "code",
   "execution_count": 34,
   "metadata": {
    "ExecuteTime": {
     "end_time": "2020-04-05T23:23:13.620117Z",
     "start_time": "2020-04-05T23:23:13.610987Z"
    }
   },
   "outputs": [],
   "source": [
    "args = lr.coef_[0].argsort()\n",
    "features = np.array(fit_v.get_feature_names())"
   ]
  },
  {
   "cell_type": "markdown",
   "metadata": {},
   "source": [
    "**Trying a different approach by cleaning breed**"
   ]
  },
  {
   "cell_type": "code",
   "execution_count": 35,
   "metadata": {
    "ExecuteTime": {
     "end_time": "2020-04-05T23:23:15.102067Z",
     "start_time": "2020-04-05T23:23:15.097388Z"
    }
   },
   "outputs": [],
   "source": [
    "breed = train_new[\"Breed\"]\n",
    "outcome = train_new[\"OutcomeType\"]"
   ]
  },
  {
   "cell_type": "code",
   "execution_count": 36,
   "metadata": {
    "ExecuteTime": {
     "end_time": "2020-04-05T23:23:18.173333Z",
     "start_time": "2020-04-05T23:23:18.168730Z"
    }
   },
   "outputs": [],
   "source": [
    "def identify_mix(x):\n",
    "    x = x.lower()\n",
    "    if ((\"mix\" in x)):\n",
    "        return 1\n",
    "    else: \n",
    "        return 0"
   ]
  },
  {
   "cell_type": "code",
   "execution_count": 37,
   "metadata": {
    "ExecuteTime": {
     "end_time": "2020-04-05T23:23:18.638115Z",
     "start_time": "2020-04-05T23:23:18.614919Z"
    }
   },
   "outputs": [
    {
     "data": {
      "text/plain": [
       "0.8342249990646863"
      ]
     },
     "execution_count": 37,
     "metadata": {},
     "output_type": "execute_result"
    }
   ],
   "source": [
    "breed_mix = breed.apply(identify_mix)\n",
    "np.mean(breed_mix)"
   ]
  },
  {
   "cell_type": "code",
   "execution_count": 38,
   "metadata": {
    "ExecuteTime": {
     "end_time": "2020-04-05T23:23:19.177537Z",
     "start_time": "2020-04-05T23:23:19.169528Z"
    }
   },
   "outputs": [],
   "source": [
    "def clean_breed(x):\n",
    "    x = x.lower()\n",
    "    x = x.replace(\"mix\",\"\")\n",
    "    x = x.replace(\"/\",\" \")\n",
    "    return x.strip()"
   ]
  },
  {
   "cell_type": "code",
   "execution_count": 39,
   "metadata": {
    "ExecuteTime": {
     "end_time": "2020-04-05T23:23:24.959919Z",
     "start_time": "2020-04-05T23:23:24.928976Z"
    }
   },
   "outputs": [],
   "source": [
    "breed = breed.apply(clean_breed)"
   ]
  },
  {
   "cell_type": "code",
   "execution_count": 40,
   "metadata": {
    "ExecuteTime": {
     "end_time": "2020-04-05T23:23:25.347887Z",
     "start_time": "2020-04-05T23:23:25.339979Z"
    }
   },
   "outputs": [],
   "source": [
    "from scipy.sparse import csr_matrix, hstack\n",
    "def add_feature(X, feature_to_add):\n",
    "    return hstack([X, csr_matrix(feature_to_add).T], 'csr')"
   ]
  },
  {
   "cell_type": "code",
   "execution_count": 41,
   "metadata": {
    "ExecuteTime": {
     "end_time": "2020-04-05T23:23:25.831622Z",
     "start_time": "2020-04-05T23:23:25.824362Z"
    }
   },
   "outputs": [],
   "source": [
    "breeds = pd.DataFrame({\"breed\": breed, \"mix\": breed_mix})"
   ]
  },
  {
   "cell_type": "code",
   "execution_count": 42,
   "metadata": {
    "ExecuteTime": {
     "end_time": "2020-04-05T23:23:26.130408Z",
     "start_time": "2020-04-05T23:23:26.117039Z"
    }
   },
   "outputs": [],
   "source": [
    "X_train, X_test, y_train, y_test = train_test_split(breeds, outcome)"
   ]
  },
  {
   "cell_type": "code",
   "execution_count": 43,
   "metadata": {
    "ExecuteTime": {
     "end_time": "2020-04-05T23:23:26.946260Z",
     "start_time": "2020-04-05T23:23:26.420355Z"
    }
   },
   "outputs": [],
   "source": [
    "fit_v = CountVectorizer(min_df = 10, max_df = 0.8 , ngram_range = (1,2)).fit(X_train[\"breed\"])\n",
    "X_train_v = fit_v.transform(X_train[\"breed\"])\n",
    "X_test_v = fit_v.transform(X_test[\"breed\"])"
   ]
  },
  {
   "cell_type": "code",
   "execution_count": 44,
   "metadata": {
    "ExecuteTime": {
     "end_time": "2020-04-05T23:23:26.967629Z",
     "start_time": "2020-04-05T23:23:26.949695Z"
    }
   },
   "outputs": [],
   "source": [
    "X_train_new = add_feature(X_train_v, X_train[\"mix\"])\n",
    "X_test_new = add_feature(X_test_v, X_test[\"mix\"])"
   ]
  },
  {
   "cell_type": "code",
   "execution_count": 45,
   "metadata": {
    "ExecuteTime": {
     "end_time": "2020-04-05T23:23:37.003221Z",
     "start_time": "2020-04-05T23:23:36.998545Z"
    }
   },
   "outputs": [],
   "source": [
    "lr= LogisticRegression(C=1,solver= \"liblinear\", multi_class = \"ovr\")"
   ]
  },
  {
   "cell_type": "code",
   "execution_count": 46,
   "metadata": {
    "ExecuteTime": {
     "end_time": "2020-04-05T23:23:37.684671Z",
     "start_time": "2020-04-05T23:23:37.208675Z"
    }
   },
   "outputs": [
    {
     "data": {
      "text/plain": [
       "LogisticRegression(C=1, class_weight=None, dual=False, fit_intercept=True,\n",
       "                   intercept_scaling=1, l1_ratio=None, max_iter=100,\n",
       "                   multi_class='ovr', n_jobs=None, penalty='l2',\n",
       "                   random_state=None, solver='liblinear', tol=0.0001, verbose=0,\n",
       "                   warm_start=False)"
      ]
     },
     "execution_count": 46,
     "metadata": {},
     "output_type": "execute_result"
    }
   ],
   "source": [
    "lr.fit(X_train_new, y_train)"
   ]
  },
  {
   "cell_type": "code",
   "execution_count": 47,
   "metadata": {
    "ExecuteTime": {
     "end_time": "2020-04-05T23:23:37.696274Z",
     "start_time": "2020-04-05T23:23:37.685668Z"
    }
   },
   "outputs": [
    {
     "data": {
      "text/plain": [
       "0.460721232979201"
      ]
     },
     "execution_count": 47,
     "metadata": {},
     "output_type": "execute_result"
    }
   ],
   "source": [
    "lr.score(X_test_new, y_test)"
   ]
  },
  {
   "cell_type": "code",
   "execution_count": 48,
   "metadata": {
    "ExecuteTime": {
     "end_time": "2020-04-05T23:23:38.367727Z",
     "start_time": "2020-04-05T23:23:38.354994Z"
    }
   },
   "outputs": [
    {
     "data": {
      "text/plain": [
       "array(['retriever plott', 'retriever pointer', 'catahoula labrador',\n",
       "       'weimaraner', 'pekingese', 'spaniel', 'german', 'dog labrador',\n",
       "       'apso', 'lhasa apso', 'lhasa', 'maltese miniature', 'shih tzu',\n",
       "       'shih', 'tzu', 'ragdoll', 'boston', 'boston terrier',\n",
       "       'shorthair jack', 'shorthair miniature'], dtype='<U22')"
      ]
     },
     "execution_count": 48,
     "metadata": {},
     "output_type": "execute_result"
    }
   ],
   "source": [
    "args = lr.coef_[0].argsort()\n",
    "features = np.array(fit_v.get_feature_names())\n",
    "features[args[0:20]]"
   ]
  },
  {
   "cell_type": "markdown",
   "metadata": {},
   "source": [
    "This approach adds a little benefit. We can revisit this later"
   ]
  },
  {
   "cell_type": "markdown",
   "metadata": {},
   "source": [
    "## Clean color and Vectorize"
   ]
  },
  {
   "cell_type": "code",
   "execution_count": 49,
   "metadata": {
    "ExecuteTime": {
     "end_time": "2020-04-05T23:23:40.560777Z",
     "start_time": "2020-04-05T23:23:40.552244Z"
    }
   },
   "outputs": [],
   "source": [
    "def clean_color(x):\n",
    "    return x.replace(\"/\",\" \")"
   ]
  },
  {
   "cell_type": "code",
   "execution_count": 50,
   "metadata": {
    "ExecuteTime": {
     "end_time": "2020-04-05T23:23:40.868723Z",
     "start_time": "2020-04-05T23:23:40.841693Z"
    }
   },
   "outputs": [],
   "source": [
    "train_new[\"Color\"] = train_new[\"Color\"].apply(clean_color)"
   ]
  },
  {
   "cell_type": "code",
   "execution_count": 51,
   "metadata": {
    "ExecuteTime": {
     "end_time": "2020-04-05T23:23:41.130696Z",
     "start_time": "2020-04-05T23:23:41.123361Z"
    }
   },
   "outputs": [],
   "source": [
    "colors = train_new[\"Color\"]"
   ]
  },
  {
   "cell_type": "code",
   "execution_count": 52,
   "metadata": {
    "ExecuteTime": {
     "end_time": "2020-04-05T23:23:41.524460Z",
     "start_time": "2020-04-05T23:23:41.512466Z"
    }
   },
   "outputs": [],
   "source": [
    "X_train, X_test, y_train, y_test = train_test_split(colors, outcome)"
   ]
  },
  {
   "cell_type": "code",
   "execution_count": 53,
   "metadata": {
    "ExecuteTime": {
     "end_time": "2020-04-05T23:23:42.164019Z",
     "start_time": "2020-04-05T23:23:41.789439Z"
    }
   },
   "outputs": [],
   "source": [
    "fit_c = CountVectorizer(min_df = 10, max_df = 0.8).fit(colors)\n",
    "X_train_v = fit_c.transform(X_train)\n",
    "X_test_v = fit_c.transform(X_test)"
   ]
  },
  {
   "cell_type": "code",
   "execution_count": 54,
   "metadata": {
    "ExecuteTime": {
     "end_time": "2020-04-05T23:23:42.556640Z",
     "start_time": "2020-04-05T23:23:42.270874Z"
    }
   },
   "outputs": [
    {
     "data": {
      "text/plain": [
       "LogisticRegression(C=1, class_weight=None, dual=False, fit_intercept=True,\n",
       "                   intercept_scaling=1, l1_ratio=None, max_iter=100,\n",
       "                   multi_class='ovr', n_jobs=None, penalty='l2',\n",
       "                   random_state=None, solver='liblinear', tol=0.0001, verbose=0,\n",
       "                   warm_start=False)"
      ]
     },
     "execution_count": 54,
     "metadata": {},
     "output_type": "execute_result"
    }
   ],
   "source": [
    "lr= LogisticRegression(C=1,solver= \"liblinear\", multi_class = \"ovr\")\n",
    "lr.fit(X_train_v, y_train)"
   ]
  },
  {
   "cell_type": "code",
   "execution_count": 55,
   "metadata": {
    "ExecuteTime": {
     "end_time": "2020-04-05T23:23:42.578525Z",
     "start_time": "2020-04-05T23:23:42.571593Z"
    }
   },
   "outputs": [
    {
     "data": {
      "text/plain": [
       "(20046, 33)"
      ]
     },
     "execution_count": 55,
     "metadata": {},
     "output_type": "execute_result"
    }
   ],
   "source": [
    "X_train_v.shape"
   ]
  },
  {
   "cell_type": "code",
   "execution_count": 56,
   "metadata": {
    "ExecuteTime": {
     "end_time": "2020-04-05T23:23:43.193933Z",
     "start_time": "2020-04-05T23:23:43.175335Z"
    }
   },
   "outputs": [
    {
     "data": {
      "text/plain": [
       "0.44381265898548555"
      ]
     },
     "execution_count": 56,
     "metadata": {},
     "output_type": "execute_result"
    }
   ],
   "source": [
    "lr.score(X_test_v, y_test)"
   ]
  },
  {
   "cell_type": "code",
   "execution_count": 57,
   "metadata": {
    "ExecuteTime": {
     "end_time": "2020-04-05T23:23:43.880374Z",
     "start_time": "2020-04-05T23:23:43.863263Z"
    }
   },
   "outputs": [
    {
     "data": {
      "text/html": [
       "<div>\n",
       "<style scoped>\n",
       "    .dataframe tbody tr th:only-of-type {\n",
       "        vertical-align: middle;\n",
       "    }\n",
       "\n",
       "    .dataframe tbody tr th {\n",
       "        vertical-align: top;\n",
       "    }\n",
       "\n",
       "    .dataframe thead th {\n",
       "        text-align: right;\n",
       "    }\n",
       "</style>\n",
       "<table border=\"1\" class=\"dataframe\">\n",
       "  <thead>\n",
       "    <tr style=\"text-align: right;\">\n",
       "      <th></th>\n",
       "      <th>OutcomeType</th>\n",
       "      <th>AnimalType</th>\n",
       "      <th>SexuponOutcome</th>\n",
       "      <th>AgeuponOutcome</th>\n",
       "      <th>Breed</th>\n",
       "      <th>Color</th>\n",
       "      <th>NameFlag</th>\n",
       "    </tr>\n",
       "  </thead>\n",
       "  <tbody>\n",
       "    <tr>\n",
       "      <th>0</th>\n",
       "      <td>Return_to_owner</td>\n",
       "      <td>Dog</td>\n",
       "      <td>Neutered Male</td>\n",
       "      <td>1.0</td>\n",
       "      <td>Shetland Sheepdog Mix</td>\n",
       "      <td>Brown White</td>\n",
       "      <td>1</td>\n",
       "    </tr>\n",
       "    <tr>\n",
       "      <th>1</th>\n",
       "      <td>Euthanasia</td>\n",
       "      <td>Cat</td>\n",
       "      <td>Spayed Female</td>\n",
       "      <td>1.0</td>\n",
       "      <td>Domestic Shorthair Mix</td>\n",
       "      <td>Cream Tabby</td>\n",
       "      <td>1</td>\n",
       "    </tr>\n",
       "    <tr>\n",
       "      <th>2</th>\n",
       "      <td>Adoption</td>\n",
       "      <td>Dog</td>\n",
       "      <td>Neutered Male</td>\n",
       "      <td>2.0</td>\n",
       "      <td>Pit Bull Mix</td>\n",
       "      <td>Blue White</td>\n",
       "      <td>1</td>\n",
       "    </tr>\n",
       "    <tr>\n",
       "      <th>3</th>\n",
       "      <td>Transfer</td>\n",
       "      <td>Cat</td>\n",
       "      <td>Intact Male</td>\n",
       "      <td>0.1</td>\n",
       "      <td>Domestic Shorthair Mix</td>\n",
       "      <td>Blue Cream</td>\n",
       "      <td>0</td>\n",
       "    </tr>\n",
       "    <tr>\n",
       "      <th>4</th>\n",
       "      <td>Transfer</td>\n",
       "      <td>Dog</td>\n",
       "      <td>Neutered Male</td>\n",
       "      <td>2.0</td>\n",
       "      <td>Lhasa Apso/Miniature Poodle</td>\n",
       "      <td>Tan</td>\n",
       "      <td>0</td>\n",
       "    </tr>\n",
       "  </tbody>\n",
       "</table>\n",
       "</div>"
      ],
      "text/plain": [
       "       OutcomeType AnimalType SexuponOutcome  AgeuponOutcome  \\\n",
       "0  Return_to_owner        Dog  Neutered Male             1.0   \n",
       "1       Euthanasia        Cat  Spayed Female             1.0   \n",
       "2         Adoption        Dog  Neutered Male             2.0   \n",
       "3         Transfer        Cat    Intact Male             0.1   \n",
       "4         Transfer        Dog  Neutered Male             2.0   \n",
       "\n",
       "                         Breed        Color  NameFlag  \n",
       "0        Shetland Sheepdog Mix  Brown White         1  \n",
       "1       Domestic Shorthair Mix  Cream Tabby         1  \n",
       "2                 Pit Bull Mix   Blue White         1  \n",
       "3       Domestic Shorthair Mix   Blue Cream         0  \n",
       "4  Lhasa Apso/Miniature Poodle          Tan         0  "
      ]
     },
     "execution_count": 57,
     "metadata": {},
     "output_type": "execute_result"
    }
   ],
   "source": [
    "train_new.head()"
   ]
  },
  {
   "cell_type": "markdown",
   "metadata": {},
   "source": [
    "## Create sparse matrix with all the features"
   ]
  },
  {
   "cell_type": "code",
   "execution_count": 58,
   "metadata": {
    "ExecuteTime": {
     "end_time": "2020-04-05T23:23:46.727640Z",
     "start_time": "2020-04-05T23:23:46.724088Z"
    }
   },
   "outputs": [],
   "source": [
    "y = train_new[\"OutcomeType\"]"
   ]
  },
  {
   "cell_type": "code",
   "execution_count": 59,
   "metadata": {
    "ExecuteTime": {
     "end_time": "2020-04-05T23:23:47.009852Z",
     "start_time": "2020-04-05T23:23:47.002316Z"
    }
   },
   "outputs": [],
   "source": [
    "dog = list(pd.get_dummies(train_new[\"AnimalType\"], drop_first = True))"
   ]
  },
  {
   "cell_type": "code",
   "execution_count": 60,
   "metadata": {
    "ExecuteTime": {
     "end_time": "2020-04-05T23:23:47.281680Z",
     "start_time": "2020-04-05T23:23:47.269610Z"
    }
   },
   "outputs": [],
   "source": [
    "dog = pd.get_dummies(train_new[\"AnimalType\"], drop_first = True).values\n",
    "dog = dog[:,0]"
   ]
  },
  {
   "cell_type": "code",
   "execution_count": 61,
   "metadata": {
    "ExecuteTime": {
     "end_time": "2020-04-05T23:23:47.467644Z",
     "start_time": "2020-04-05T23:23:47.458080Z"
    }
   },
   "outputs": [],
   "source": [
    "#We do not use the unknown sex\n",
    "X =pd.get_dummies(train_new[\"SexuponOutcome\"]).values"
   ]
  },
  {
   "cell_type": "code",
   "execution_count": 62,
   "metadata": {
    "ExecuteTime": {
     "end_time": "2020-04-05T23:23:47.711082Z",
     "start_time": "2020-04-05T23:23:47.702458Z"
    }
   },
   "outputs": [],
   "source": [
    "in_f, in_m, n_m, s_f, u_f = X[:,0], X[:,1], X[:,2], X[:,3], X[:,4]"
   ]
  },
  {
   "cell_type": "code",
   "execution_count": 63,
   "metadata": {
    "ExecuteTime": {
     "end_time": "2020-04-05T23:23:48.714413Z",
     "start_time": "2020-04-05T23:23:48.709600Z"
    }
   },
   "outputs": [],
   "source": [
    "age = train_new[\"AgeuponOutcome\"]"
   ]
  },
  {
   "cell_type": "code",
   "execution_count": 64,
   "metadata": {
    "ExecuteTime": {
     "end_time": "2020-04-05T23:23:49.265811Z",
     "start_time": "2020-04-05T23:23:49.257901Z"
    }
   },
   "outputs": [],
   "source": [
    "name = train_new[\"NameFlag\"]"
   ]
  },
  {
   "cell_type": "code",
   "execution_count": 65,
   "metadata": {
    "ExecuteTime": {
     "end_time": "2020-04-05T23:23:49.801751Z",
     "start_time": "2020-04-05T23:23:49.749843Z"
    }
   },
   "outputs": [],
   "source": [
    "breed = train_new[\"Breed\"]\n",
    "breed_mix = breed.apply(identify_mix)\n",
    "breed = breed.apply(clean_breed)\n",
    "breeds = pd.DataFrame({\"breed\": breed, \"mix\": breed_mix})"
   ]
  },
  {
   "cell_type": "code",
   "execution_count": 66,
   "metadata": {
    "ExecuteTime": {
     "end_time": "2020-04-05T23:23:50.630670Z",
     "start_time": "2020-04-05T23:23:50.620717Z"
    }
   },
   "outputs": [],
   "source": [
    "dict = {\"breed\": breed, \"mix\": breed_mix, \"dog_f\":dog, \"intact_male\":in_m, \"intact_female\":in_f, \"neutered_m\":n_m, \"spayed_f\":s_f, \"age\":age, \"name_f\":name}"
   ]
  },
  {
   "cell_type": "code",
   "execution_count": 67,
   "metadata": {
    "ExecuteTime": {
     "end_time": "2020-04-05T23:23:51.093063Z",
     "start_time": "2020-04-05T23:23:51.084997Z"
    }
   },
   "outputs": [],
   "source": [
    "train_final = pd.DataFrame(dict)"
   ]
  },
  {
   "cell_type": "code",
   "execution_count": 68,
   "metadata": {
    "ExecuteTime": {
     "end_time": "2020-04-05T23:23:51.874670Z",
     "start_time": "2020-04-05T23:23:51.855267Z"
    }
   },
   "outputs": [],
   "source": [
    "X_train, X_test, y_train, y_test = train_test_split(train_final, outcome)"
   ]
  },
  {
   "cell_type": "code",
   "execution_count": 69,
   "metadata": {
    "ExecuteTime": {
     "end_time": "2020-04-05T23:23:52.673546Z",
     "start_time": "2020-04-05T23:23:52.241987Z"
    }
   },
   "outputs": [],
   "source": [
    "fit_v = CountVectorizer(min_df = 20, max_df = 0.8).fit(X_train[\"breed\"])\n",
    "X_train_v = fit_v.transform(X_train[\"breed\"])\n",
    "X_test_v = fit_v.transform(X_test[\"breed\"])"
   ]
  },
  {
   "cell_type": "code",
   "execution_count": 70,
   "metadata": {
    "ExecuteTime": {
     "end_time": "2020-04-05T23:23:55.648383Z",
     "start_time": "2020-04-05T23:23:55.640445Z"
    }
   },
   "outputs": [
    {
     "data": {
      "text/plain": [
       "(20046, 114)"
      ]
     },
     "execution_count": 70,
     "metadata": {},
     "output_type": "execute_result"
    }
   ],
   "source": [
    "X_train_v.shape"
   ]
  },
  {
   "cell_type": "code",
   "execution_count": 71,
   "metadata": {
    "ExecuteTime": {
     "end_time": "2020-04-05T23:23:56.372520Z",
     "start_time": "2020-04-05T23:23:56.358635Z"
    }
   },
   "outputs": [
    {
     "data": {
      "text/plain": [
       "Adoption           10769\n",
       "Transfer            9422\n",
       "Return_to_owner     4786\n",
       "Euthanasia          1555\n",
       "Died                 197\n",
       "Name: OutcomeType, dtype: int64"
      ]
     },
     "execution_count": 71,
     "metadata": {},
     "output_type": "execute_result"
    }
   ],
   "source": [
    "outcome.value_counts()"
   ]
  },
  {
   "cell_type": "code",
   "execution_count": 72,
   "metadata": {
    "ExecuteTime": {
     "end_time": "2020-04-05T23:23:57.001986Z",
     "start_time": "2020-04-05T23:23:56.951788Z"
    }
   },
   "outputs": [],
   "source": [
    "X_train_v  = add_feature(X_train_v, X_train[\"mix\"])\n",
    "X_train_v  = add_feature(X_train_v, X_train[\"dog_f\"])\n",
    "X_train_v  = add_feature(X_train_v, X_train[\"intact_male\"])\n",
    "X_train_v  = add_feature(X_train_v, X_train[\"intact_female\"])\n",
    "X_train_v  = add_feature(X_train_v, X_train[\"neutered_m\"])\n",
    "X_train_v  = add_feature(X_train_v, X_train[\"spayed_f\"])\n",
    "X_train_v  = add_feature(X_train_v, X_train[\"age\"])\n",
    "X_train_v  = add_feature(X_train_v, X_train[\"name_f\"])"
   ]
  },
  {
   "cell_type": "code",
   "execution_count": 73,
   "metadata": {
    "ExecuteTime": {
     "end_time": "2020-04-05T23:23:57.637858Z",
     "start_time": "2020-04-05T23:23:57.631388Z"
    }
   },
   "outputs": [
    {
     "data": {
      "text/plain": [
       "(20046, 122)"
      ]
     },
     "execution_count": 73,
     "metadata": {},
     "output_type": "execute_result"
    }
   ],
   "source": [
    "X_train_v.shape"
   ]
  },
  {
   "cell_type": "code",
   "execution_count": 74,
   "metadata": {
    "ExecuteTime": {
     "end_time": "2020-04-05T23:23:58.207925Z",
     "start_time": "2020-04-05T23:23:58.180388Z"
    }
   },
   "outputs": [],
   "source": [
    "X_test_v  = add_feature(X_test_v, X_test[\"mix\"])\n",
    "X_test_v  = add_feature(X_test_v, X_test[\"dog_f\"])\n",
    "X_test_v  = add_feature(X_test_v, X_test[\"intact_male\"])\n",
    "X_test_v  = add_feature(X_test_v, X_test[\"intact_female\"])\n",
    "X_test_v  = add_feature(X_test_v, X_test[\"neutered_m\"])\n",
    "X_test_v  = add_feature(X_test_v, X_test[\"spayed_f\"])\n",
    "X_test_v  = add_feature(X_test_v, X_test[\"age\"])\n",
    "X_test_v  = add_feature(X_test_v, X_test[\"name_f\"])"
   ]
  },
  {
   "cell_type": "markdown",
   "metadata": {
    "ExecuteTime": {
     "end_time": "2020-04-05T17:10:07.311621Z",
     "start_time": "2020-04-05T17:10:07.303857Z"
    }
   },
   "source": [
    "# Testing Basic Models"
   ]
  },
  {
   "cell_type": "markdown",
   "metadata": {
    "ExecuteTime": {
     "end_time": "2020-04-05T17:13:06.909857Z",
     "start_time": "2020-04-05T17:13:06.903374Z"
    }
   },
   "source": [
    "## Logistic Regression"
   ]
  },
  {
   "cell_type": "code",
   "execution_count": 75,
   "metadata": {
    "ExecuteTime": {
     "end_time": "2020-04-05T23:24:01.616391Z",
     "start_time": "2020-04-05T23:24:01.000450Z"
    }
   },
   "outputs": [
    {
     "data": {
      "text/plain": [
       "LogisticRegression(C=1, class_weight=None, dual=False, fit_intercept=True,\n",
       "                   intercept_scaling=1, l1_ratio=None, max_iter=100,\n",
       "                   multi_class='ovr', n_jobs=None, penalty='l2',\n",
       "                   random_state=None, solver='liblinear', tol=0.0001, verbose=0,\n",
       "                   warm_start=False)"
      ]
     },
     "execution_count": 75,
     "metadata": {},
     "output_type": "execute_result"
    }
   ],
   "source": [
    "lr.fit(X_train_v, y_train)"
   ]
  },
  {
   "cell_type": "code",
   "execution_count": 76,
   "metadata": {
    "ExecuteTime": {
     "end_time": "2020-04-05T23:24:01.655593Z",
     "start_time": "2020-04-05T23:24:01.619383Z"
    }
   },
   "outputs": [
    {
     "data": {
      "text/plain": [
       "0.6329492742780188"
      ]
     },
     "execution_count": 76,
     "metadata": {},
     "output_type": "execute_result"
    }
   ],
   "source": [
    "lr.score(X_test_v, y_test)"
   ]
  },
  {
   "cell_type": "code",
   "execution_count": 77,
   "metadata": {
    "ExecuteTime": {
     "end_time": "2020-04-05T23:24:01.947301Z",
     "start_time": "2020-04-05T23:24:01.660641Z"
    }
   },
   "outputs": [
    {
     "data": {
      "text/plain": [
       "LogisticRegression(C=1, class_weight=None, dual=False, fit_intercept=True,\n",
       "                   intercept_scaling=1, l1_ratio=None, max_iter=100,\n",
       "                   multi_class='ovr', n_jobs=None, penalty='l2',\n",
       "                   random_state=None, solver='liblinear', tol=0.0001, verbose=0,\n",
       "                   warm_start=False)"
      ]
     },
     "execution_count": 77,
     "metadata": {},
     "output_type": "execute_result"
    }
   ],
   "source": [
    "lr.fit(X_train.iloc[:,1:],y_train)"
   ]
  },
  {
   "cell_type": "code",
   "execution_count": 78,
   "metadata": {
    "ExecuteTime": {
     "end_time": "2020-04-05T23:24:01.967623Z",
     "start_time": "2020-04-05T23:24:01.950291Z"
    }
   },
   "outputs": [
    {
     "data": {
      "text/plain": [
       "0.6307047733054018"
      ]
     },
     "execution_count": 78,
     "metadata": {},
     "output_type": "execute_result"
    }
   ],
   "source": [
    "lr.score(X_test.iloc[:,1:], y_test)"
   ]
  },
  {
   "cell_type": "markdown",
   "metadata": {},
   "source": [
    "## Naive Bayes"
   ]
  },
  {
   "cell_type": "code",
   "execution_count": 79,
   "metadata": {
    "ExecuteTime": {
     "end_time": "2020-04-05T23:24:03.600494Z",
     "start_time": "2020-04-05T23:24:03.593552Z"
    }
   },
   "outputs": [],
   "source": [
    "from sklearn.naive_bayes import MultinomialNB"
   ]
  },
  {
   "cell_type": "code",
   "execution_count": 80,
   "metadata": {
    "ExecuteTime": {
     "end_time": "2020-04-05T23:24:03.852277Z",
     "start_time": "2020-04-05T23:24:03.847663Z"
    }
   },
   "outputs": [],
   "source": [
    "nb = MultinomialNB(alpha = 0.01)"
   ]
  },
  {
   "cell_type": "code",
   "execution_count": 81,
   "metadata": {
    "ExecuteTime": {
     "end_time": "2020-04-05T23:24:04.193740Z",
     "start_time": "2020-04-05T23:24:04.126452Z"
    }
   },
   "outputs": [
    {
     "data": {
      "text/plain": [
       "MultinomialNB(alpha=0.01, class_prior=None, fit_prior=True)"
      ]
     },
     "execution_count": 81,
     "metadata": {},
     "output_type": "execute_result"
    }
   ],
   "source": [
    "nb.fit(X_train_v, y_train)"
   ]
  },
  {
   "cell_type": "code",
   "execution_count": 82,
   "metadata": {
    "ExecuteTime": {
     "end_time": "2020-04-05T23:24:04.388059Z",
     "start_time": "2020-04-05T23:24:04.376654Z"
    }
   },
   "outputs": [
    {
     "data": {
      "text/plain": [
       "0.6058656292084393"
      ]
     },
     "execution_count": 82,
     "metadata": {},
     "output_type": "execute_result"
    }
   ],
   "source": [
    "nb.score(X_test_v, y_test)"
   ]
  },
  {
   "cell_type": "markdown",
   "metadata": {},
   "source": [
    "## SVM"
   ]
  },
  {
   "cell_type": "code",
   "execution_count": 83,
   "metadata": {
    "ExecuteTime": {
     "end_time": "2020-04-05T23:24:05.152096Z",
     "start_time": "2020-04-05T23:24:05.146169Z"
    }
   },
   "outputs": [],
   "source": [
    "from sklearn.svm import SVC"
   ]
  },
  {
   "cell_type": "code",
   "execution_count": 84,
   "metadata": {
    "ExecuteTime": {
     "end_time": "2020-04-05T23:24:05.415716Z",
     "start_time": "2020-04-05T23:24:05.408302Z"
    }
   },
   "outputs": [],
   "source": [
    "svm = SVC(C=0.1, gamma = \"scale\", cache_size = 600)"
   ]
  },
  {
   "cell_type": "code",
   "execution_count": 85,
   "metadata": {
    "ExecuteTime": {
     "end_time": "2020-04-05T23:24:50.429274Z",
     "start_time": "2020-04-05T23:24:05.630572Z"
    }
   },
   "outputs": [
    {
     "data": {
      "text/plain": [
       "SVC(C=0.1, break_ties=False, cache_size=600, class_weight=None, coef0=0.0,\n",
       "    decision_function_shape='ovr', degree=3, gamma='scale', kernel='rbf',\n",
       "    max_iter=-1, probability=False, random_state=None, shrinking=True,\n",
       "    tol=0.001, verbose=False)"
      ]
     },
     "execution_count": 85,
     "metadata": {},
     "output_type": "execute_result"
    }
   ],
   "source": [
    "svm.fit(X_train_v, y_train)"
   ]
  },
  {
   "cell_type": "markdown",
   "metadata": {},
   "source": [
    "## Tree based models - Random Forest and AdaBoost"
   ]
  },
  {
   "cell_type": "code",
   "execution_count": 86,
   "metadata": {
    "ExecuteTime": {
     "end_time": "2020-04-05T23:24:50.524923Z",
     "start_time": "2020-04-05T23:24:50.432263Z"
    }
   },
   "outputs": [],
   "source": [
    "from sklearn.ensemble import RandomForestClassifier, AdaBoostClassifier"
   ]
  },
  {
   "cell_type": "code",
   "execution_count": 87,
   "metadata": {
    "ExecuteTime": {
     "end_time": "2020-04-05T23:24:50.544683Z",
     "start_time": "2020-04-05T23:24:50.531508Z"
    }
   },
   "outputs": [],
   "source": [
    "rf = RandomForestClassifier(n_estimators = 100)"
   ]
  },
  {
   "cell_type": "code",
   "execution_count": 88,
   "metadata": {
    "ExecuteTime": {
     "end_time": "2020-04-05T23:25:16.491941Z",
     "start_time": "2020-04-05T23:24:50.553914Z"
    }
   },
   "outputs": [
    {
     "data": {
      "text/plain": [
       "0.6105042645518479"
      ]
     },
     "execution_count": 88,
     "metadata": {},
     "output_type": "execute_result"
    }
   ],
   "source": [
    "rf.fit(X_train_v, y_train)\n",
    "rf.score(X_test_v, y_test)"
   ]
  },
  {
   "cell_type": "code",
   "execution_count": 89,
   "metadata": {
    "ExecuteTime": {
     "end_time": "2020-04-05T23:25:16.507263Z",
     "start_time": "2020-04-05T23:25:16.497431Z"
    }
   },
   "outputs": [],
   "source": [
    "ada = AdaBoostClassifier(n_estimators = 50)"
   ]
  },
  {
   "cell_type": "code",
   "execution_count": 90,
   "metadata": {
    "ExecuteTime": {
     "end_time": "2020-04-05T23:25:19.748839Z",
     "start_time": "2020-04-05T23:25:16.514451Z"
    }
   },
   "outputs": [
    {
     "data": {
      "text/plain": [
       "AdaBoostClassifier(algorithm='SAMME.R', base_estimator=None, learning_rate=1.0,\n",
       "                   n_estimators=50, random_state=None)"
      ]
     },
     "execution_count": 90,
     "metadata": {},
     "output_type": "execute_result"
    }
   ],
   "source": [
    "ada.fit(X_train_v, y_train)"
   ]
  },
  {
   "cell_type": "code",
   "execution_count": 91,
   "metadata": {
    "ExecuteTime": {
     "end_time": "2020-04-05T23:25:19.875863Z",
     "start_time": "2020-04-05T23:25:19.751030Z"
    }
   },
   "outputs": [
    {
     "data": {
      "text/plain": [
       "0.5733951818045788"
      ]
     },
     "execution_count": 91,
     "metadata": {},
     "output_type": "execute_result"
    }
   ],
   "source": [
    "ada.score(X_test_v, y_test)"
   ]
  }
 ],
 "metadata": {
  "kernelspec": {
   "display_name": "Python 3",
   "language": "python",
   "name": "python3"
  },
  "language_info": {
   "codemirror_mode": {
    "name": "ipython",
    "version": 3
   },
   "file_extension": ".py",
   "mimetype": "text/x-python",
   "name": "python",
   "nbconvert_exporter": "python",
   "pygments_lexer": "ipython3",
   "version": "3.7.6"
  },
  "toc": {
   "base_numbering": 1,
   "nav_menu": {},
   "number_sections": true,
   "sideBar": true,
   "skip_h1_title": false,
   "title_cell": "Table of Contents",
   "title_sidebar": "Contents",
   "toc_cell": false,
   "toc_position": {},
   "toc_section_display": true,
   "toc_window_display": false
  }
 },
 "nbformat": 4,
 "nbformat_minor": 2
}
