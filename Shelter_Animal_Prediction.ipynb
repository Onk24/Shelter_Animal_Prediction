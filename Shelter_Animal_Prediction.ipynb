{
 "cells": [
  {
   "cell_type": "code",
   "execution_count": 4,
   "metadata": {
    "ExecuteTime": {
     "end_time": "2020-04-05T17:06:38.983600Z",
     "start_time": "2020-04-05T17:06:38.975958Z"
    }
   },
   "outputs": [],
   "source": [
    "import pandas as pd\n",
    "import numpy as np\n",
    "import seaborn as sns\n",
    "from matplotlib import pyplot as plt"
   ]
  },
  {
   "cell_type": "code",
   "execution_count": 5,
   "metadata": {
    "ExecuteTime": {
     "end_time": "2020-04-05T17:06:39.305289Z",
     "start_time": "2020-04-05T17:06:39.194105Z"
    }
   },
   "outputs": [],
   "source": [
    "train_df =  pd.read_csv(\"train.csv\")\n",
    "test_df = pd.read_csv(\"test.csv\")"
   ]
  },
  {
   "cell_type": "code",
   "execution_count": 6,
   "metadata": {
    "ExecuteTime": {
     "end_time": "2020-04-05T17:06:39.392216Z",
     "start_time": "2020-04-05T17:06:39.372819Z"
    }
   },
   "outputs": [
    {
     "data": {
      "text/html": [
       "<div>\n",
       "<style scoped>\n",
       "    .dataframe tbody tr th:only-of-type {\n",
       "        vertical-align: middle;\n",
       "    }\n",
       "\n",
       "    .dataframe tbody tr th {\n",
       "        vertical-align: top;\n",
       "    }\n",
       "\n",
       "    .dataframe thead th {\n",
       "        text-align: right;\n",
       "    }\n",
       "</style>\n",
       "<table border=\"1\" class=\"dataframe\">\n",
       "  <thead>\n",
       "    <tr style=\"text-align: right;\">\n",
       "      <th></th>\n",
       "      <th>AnimalID</th>\n",
       "      <th>Name</th>\n",
       "      <th>DateTime</th>\n",
       "      <th>OutcomeType</th>\n",
       "      <th>OutcomeSubtype</th>\n",
       "      <th>AnimalType</th>\n",
       "      <th>SexuponOutcome</th>\n",
       "      <th>AgeuponOutcome</th>\n",
       "      <th>Breed</th>\n",
       "      <th>Color</th>\n",
       "    </tr>\n",
       "  </thead>\n",
       "  <tbody>\n",
       "    <tr>\n",
       "      <th>0</th>\n",
       "      <td>A671945</td>\n",
       "      <td>Hambone</td>\n",
       "      <td>2014-02-12 18:22:00</td>\n",
       "      <td>Return_to_owner</td>\n",
       "      <td>NaN</td>\n",
       "      <td>Dog</td>\n",
       "      <td>Neutered Male</td>\n",
       "      <td>1 year</td>\n",
       "      <td>Shetland Sheepdog Mix</td>\n",
       "      <td>Brown/White</td>\n",
       "    </tr>\n",
       "    <tr>\n",
       "      <th>1</th>\n",
       "      <td>A656520</td>\n",
       "      <td>Emily</td>\n",
       "      <td>2013-10-13 12:44:00</td>\n",
       "      <td>Euthanasia</td>\n",
       "      <td>Suffering</td>\n",
       "      <td>Cat</td>\n",
       "      <td>Spayed Female</td>\n",
       "      <td>1 year</td>\n",
       "      <td>Domestic Shorthair Mix</td>\n",
       "      <td>Cream Tabby</td>\n",
       "    </tr>\n",
       "    <tr>\n",
       "      <th>2</th>\n",
       "      <td>A686464</td>\n",
       "      <td>Pearce</td>\n",
       "      <td>2015-01-31 12:28:00</td>\n",
       "      <td>Adoption</td>\n",
       "      <td>Foster</td>\n",
       "      <td>Dog</td>\n",
       "      <td>Neutered Male</td>\n",
       "      <td>2 years</td>\n",
       "      <td>Pit Bull Mix</td>\n",
       "      <td>Blue/White</td>\n",
       "    </tr>\n",
       "    <tr>\n",
       "      <th>3</th>\n",
       "      <td>A683430</td>\n",
       "      <td>NaN</td>\n",
       "      <td>2014-07-11 19:09:00</td>\n",
       "      <td>Transfer</td>\n",
       "      <td>Partner</td>\n",
       "      <td>Cat</td>\n",
       "      <td>Intact Male</td>\n",
       "      <td>3 weeks</td>\n",
       "      <td>Domestic Shorthair Mix</td>\n",
       "      <td>Blue Cream</td>\n",
       "    </tr>\n",
       "    <tr>\n",
       "      <th>4</th>\n",
       "      <td>A667013</td>\n",
       "      <td>NaN</td>\n",
       "      <td>2013-11-15 12:52:00</td>\n",
       "      <td>Transfer</td>\n",
       "      <td>Partner</td>\n",
       "      <td>Dog</td>\n",
       "      <td>Neutered Male</td>\n",
       "      <td>2 years</td>\n",
       "      <td>Lhasa Apso/Miniature Poodle</td>\n",
       "      <td>Tan</td>\n",
       "    </tr>\n",
       "  </tbody>\n",
       "</table>\n",
       "</div>"
      ],
      "text/plain": [
       "  AnimalID     Name             DateTime      OutcomeType OutcomeSubtype  \\\n",
       "0  A671945  Hambone  2014-02-12 18:22:00  Return_to_owner            NaN   \n",
       "1  A656520    Emily  2013-10-13 12:44:00       Euthanasia      Suffering   \n",
       "2  A686464   Pearce  2015-01-31 12:28:00         Adoption         Foster   \n",
       "3  A683430      NaN  2014-07-11 19:09:00         Transfer        Partner   \n",
       "4  A667013      NaN  2013-11-15 12:52:00         Transfer        Partner   \n",
       "\n",
       "  AnimalType SexuponOutcome AgeuponOutcome                        Breed  \\\n",
       "0        Dog  Neutered Male         1 year        Shetland Sheepdog Mix   \n",
       "1        Cat  Spayed Female         1 year       Domestic Shorthair Mix   \n",
       "2        Dog  Neutered Male        2 years                 Pit Bull Mix   \n",
       "3        Cat    Intact Male        3 weeks       Domestic Shorthair Mix   \n",
       "4        Dog  Neutered Male        2 years  Lhasa Apso/Miniature Poodle   \n",
       "\n",
       "         Color  \n",
       "0  Brown/White  \n",
       "1  Cream Tabby  \n",
       "2   Blue/White  \n",
       "3   Blue Cream  \n",
       "4          Tan  "
      ]
     },
     "execution_count": 6,
     "metadata": {},
     "output_type": "execute_result"
    }
   ],
   "source": [
    "train_df.head()"
   ]
  },
  {
   "cell_type": "code",
   "execution_count": 7,
   "metadata": {
    "ExecuteTime": {
     "end_time": "2020-04-05T17:06:39.543159Z",
     "start_time": "2020-04-05T17:06:39.531048Z"
    }
   },
   "outputs": [
    {
     "data": {
      "text/html": [
       "<div>\n",
       "<style scoped>\n",
       "    .dataframe tbody tr th:only-of-type {\n",
       "        vertical-align: middle;\n",
       "    }\n",
       "\n",
       "    .dataframe tbody tr th {\n",
       "        vertical-align: top;\n",
       "    }\n",
       "\n",
       "    .dataframe thead th {\n",
       "        text-align: right;\n",
       "    }\n",
       "</style>\n",
       "<table border=\"1\" class=\"dataframe\">\n",
       "  <thead>\n",
       "    <tr style=\"text-align: right;\">\n",
       "      <th></th>\n",
       "      <th>ID</th>\n",
       "      <th>Name</th>\n",
       "      <th>DateTime</th>\n",
       "      <th>AnimalType</th>\n",
       "      <th>SexuponOutcome</th>\n",
       "      <th>AgeuponOutcome</th>\n",
       "      <th>Breed</th>\n",
       "      <th>Color</th>\n",
       "    </tr>\n",
       "  </thead>\n",
       "  <tbody>\n",
       "    <tr>\n",
       "      <th>0</th>\n",
       "      <td>1</td>\n",
       "      <td>Summer</td>\n",
       "      <td>2015-10-12 12:15:00</td>\n",
       "      <td>Dog</td>\n",
       "      <td>Intact Female</td>\n",
       "      <td>10 months</td>\n",
       "      <td>Labrador Retriever Mix</td>\n",
       "      <td>Red/White</td>\n",
       "    </tr>\n",
       "    <tr>\n",
       "      <th>1</th>\n",
       "      <td>2</td>\n",
       "      <td>Cheyenne</td>\n",
       "      <td>2014-07-26 17:59:00</td>\n",
       "      <td>Dog</td>\n",
       "      <td>Spayed Female</td>\n",
       "      <td>2 years</td>\n",
       "      <td>German Shepherd/Siberian Husky</td>\n",
       "      <td>Black/Tan</td>\n",
       "    </tr>\n",
       "    <tr>\n",
       "      <th>2</th>\n",
       "      <td>3</td>\n",
       "      <td>Gus</td>\n",
       "      <td>2016-01-13 12:20:00</td>\n",
       "      <td>Cat</td>\n",
       "      <td>Neutered Male</td>\n",
       "      <td>1 year</td>\n",
       "      <td>Domestic Shorthair Mix</td>\n",
       "      <td>Brown Tabby</td>\n",
       "    </tr>\n",
       "    <tr>\n",
       "      <th>3</th>\n",
       "      <td>4</td>\n",
       "      <td>Pongo</td>\n",
       "      <td>2013-12-28 18:12:00</td>\n",
       "      <td>Dog</td>\n",
       "      <td>Intact Male</td>\n",
       "      <td>4 months</td>\n",
       "      <td>Collie Smooth Mix</td>\n",
       "      <td>Tricolor</td>\n",
       "    </tr>\n",
       "    <tr>\n",
       "      <th>4</th>\n",
       "      <td>5</td>\n",
       "      <td>Skooter</td>\n",
       "      <td>2015-09-24 17:59:00</td>\n",
       "      <td>Dog</td>\n",
       "      <td>Neutered Male</td>\n",
       "      <td>2 years</td>\n",
       "      <td>Miniature Poodle Mix</td>\n",
       "      <td>White</td>\n",
       "    </tr>\n",
       "  </tbody>\n",
       "</table>\n",
       "</div>"
      ],
      "text/plain": [
       "   ID      Name             DateTime AnimalType SexuponOutcome AgeuponOutcome  \\\n",
       "0   1    Summer  2015-10-12 12:15:00        Dog  Intact Female      10 months   \n",
       "1   2  Cheyenne  2014-07-26 17:59:00        Dog  Spayed Female        2 years   \n",
       "2   3       Gus  2016-01-13 12:20:00        Cat  Neutered Male         1 year   \n",
       "3   4     Pongo  2013-12-28 18:12:00        Dog    Intact Male       4 months   \n",
       "4   5   Skooter  2015-09-24 17:59:00        Dog  Neutered Male        2 years   \n",
       "\n",
       "                            Breed        Color  \n",
       "0          Labrador Retriever Mix    Red/White  \n",
       "1  German Shepherd/Siberian Husky    Black/Tan  \n",
       "2          Domestic Shorthair Mix  Brown Tabby  \n",
       "3               Collie Smooth Mix     Tricolor  \n",
       "4            Miniature Poodle Mix        White  "
      ]
     },
     "execution_count": 7,
     "metadata": {},
     "output_type": "execute_result"
    }
   ],
   "source": [
    "test_df.head()"
   ]
  },
  {
   "cell_type": "code",
   "execution_count": 8,
   "metadata": {
    "ExecuteTime": {
     "end_time": "2020-04-05T17:06:39.695165Z",
     "start_time": "2020-04-05T17:06:39.688369Z"
    }
   },
   "outputs": [
    {
     "data": {
      "text/plain": [
       "(26729, 10)"
      ]
     },
     "execution_count": 8,
     "metadata": {},
     "output_type": "execute_result"
    }
   ],
   "source": [
    "train_df.shape"
   ]
  },
  {
   "cell_type": "code",
   "execution_count": 9,
   "metadata": {
    "ExecuteTime": {
     "end_time": "2020-04-05T17:06:39.859829Z",
     "start_time": "2020-04-05T17:06:39.847565Z"
    }
   },
   "outputs": [
    {
     "name": "stdout",
     "output_type": "stream",
     "text": [
      "7691\n",
      "0.2877399079651315\n"
     ]
    }
   ],
   "source": [
    "#Null values name\n",
    "print(sum(train_df[\"Name\"].isna()))\n",
    "print(np.mean(train_df[\"Name\"].isna()))"
   ]
  },
  {
   "cell_type": "markdown",
   "metadata": {},
   "source": [
    "# Cleaning Data"
   ]
  },
  {
   "cell_type": "code",
   "execution_count": 10,
   "metadata": {
    "ExecuteTime": {
     "end_time": "2020-04-05T17:06:40.179539Z",
     "start_time": "2020-04-05T17:06:40.168635Z"
    }
   },
   "outputs": [],
   "source": [
    "train_new = train_df.copy()"
   ]
  },
  {
   "cell_type": "code",
   "execution_count": 11,
   "metadata": {
    "ExecuteTime": {
     "end_time": "2020-04-05T17:06:40.346286Z",
     "start_time": "2020-04-05T17:06:40.335456Z"
    }
   },
   "outputs": [
    {
     "data": {
      "text/plain": [
       "Index(['AnimalID', 'Name', 'DateTime', 'OutcomeType', 'OutcomeSubtype',\n",
       "       'AnimalType', 'SexuponOutcome', 'AgeuponOutcome', 'Breed', 'Color'],\n",
       "      dtype='object')"
      ]
     },
     "execution_count": 11,
     "metadata": {},
     "output_type": "execute_result"
    }
   ],
   "source": [
    "train_new.columns"
   ]
  },
  {
   "cell_type": "markdown",
   "metadata": {},
   "source": [
    "## Dropping ID"
   ]
  },
  {
   "cell_type": "code",
   "execution_count": 12,
   "metadata": {
    "ExecuteTime": {
     "end_time": "2020-04-05T17:06:40.673644Z",
     "start_time": "2020-04-05T17:06:40.656407Z"
    }
   },
   "outputs": [],
   "source": [
    "train_new.drop(\"AnimalID\", axis = 1, inplace = True)"
   ]
  },
  {
   "cell_type": "markdown",
   "metadata": {},
   "source": [
    "## Creating NameFlag"
   ]
  },
  {
   "cell_type": "code",
   "execution_count": 13,
   "metadata": {
    "ExecuteTime": {
     "end_time": "2020-04-05T17:06:40.999013Z",
     "start_time": "2020-04-05T17:06:40.969709Z"
    }
   },
   "outputs": [],
   "source": [
    "train_new[\"NameFlag\"] = [0 if str(x) == 'nan' else 1 for x in train_df['Name']]"
   ]
  },
  {
   "cell_type": "code",
   "execution_count": 14,
   "metadata": {
    "ExecuteTime": {
     "end_time": "2020-04-05T17:06:41.116547Z",
     "start_time": "2020-04-05T17:06:41.100997Z"
    }
   },
   "outputs": [],
   "source": [
    "train_new.drop(\"Name\", axis = 1, inplace = True)"
   ]
  },
  {
   "cell_type": "markdown",
   "metadata": {},
   "source": [
    "## Dropping DataTime"
   ]
  },
  {
   "cell_type": "code",
   "execution_count": 15,
   "metadata": {
    "ExecuteTime": {
     "end_time": "2020-04-05T17:06:41.413213Z",
     "start_time": "2020-04-05T17:06:41.401762Z"
    }
   },
   "outputs": [],
   "source": [
    "train_new.drop(\"DateTime\", axis =1, inplace = True)"
   ]
  },
  {
   "cell_type": "markdown",
   "metadata": {},
   "source": [
    "## Check Outcome's distribution"
   ]
  },
  {
   "cell_type": "code",
   "execution_count": 16,
   "metadata": {
    "ExecuteTime": {
     "end_time": "2020-04-05T17:06:41.737849Z",
     "start_time": "2020-04-05T17:06:41.717048Z"
    }
   },
   "outputs": [
    {
     "name": "stdout",
     "output_type": "stream",
     "text": [
      "0\n"
     ]
    },
    {
     "data": {
      "text/plain": [
       "Adoption           10769\n",
       "Transfer            9422\n",
       "Return_to_owner     4786\n",
       "Euthanasia          1555\n",
       "Died                 197\n",
       "Name: OutcomeType, dtype: int64"
      ]
     },
     "execution_count": 16,
     "metadata": {},
     "output_type": "execute_result"
    }
   ],
   "source": [
    "#Count of each outcome \n",
    "print(sum(train_new[\"OutcomeType\"].isna()))\n",
    "train_new[\"OutcomeType\"].value_counts()"
   ]
  },
  {
   "cell_type": "markdown",
   "metadata": {},
   "source": [
    "## Drop OutcomeSubtype"
   ]
  },
  {
   "cell_type": "code",
   "execution_count": 17,
   "metadata": {
    "ExecuteTime": {
     "end_time": "2020-04-05T17:06:42.029697Z",
     "start_time": "2020-04-05T17:06:42.012188Z"
    }
   },
   "outputs": [
    {
     "name": "stdout",
     "output_type": "stream",
     "text": [
      "0.5092596056717423\n"
     ]
    },
    {
     "data": {
      "text/plain": [
       "Partner                7816\n",
       "Foster                 1800\n",
       "SCRP                   1599\n",
       "Suffering              1002\n",
       "Aggressive              320\n",
       "Offsite                 165\n",
       "In Kennel               114\n",
       "Behavior                 86\n",
       "Rabies Risk              74\n",
       "Medical                  66\n",
       "In Foster                52\n",
       "Enroute                   8\n",
       "Court/Investigation       6\n",
       "At Vet                    4\n",
       "In Surgery                3\n",
       "Barn                      2\n",
       "Name: OutcomeSubtype, dtype: int64"
      ]
     },
     "execution_count": 17,
     "metadata": {},
     "output_type": "execute_result"
    }
   ],
   "source": [
    "#Count of each subtype of outcome\n",
    "print(np.mean(train_new[\"OutcomeSubtype\"].isna()))\n",
    "train_new[\"OutcomeSubtype\"].value_counts()"
   ]
  },
  {
   "cell_type": "markdown",
   "metadata": {},
   "source": [
    "We drop outcome subtypes because:<bR>\n",
    "- 50% of the outcome subtypes are missing hence we drop this columns <br>\n",
    "- It's a subtype of outcome which we do not have for making predictions in the test data"
   ]
  },
  {
   "cell_type": "code",
   "execution_count": 18,
   "metadata": {
    "ExecuteTime": {
     "end_time": "2020-04-05T17:06:42.290866Z",
     "start_time": "2020-04-05T17:06:42.279071Z"
    }
   },
   "outputs": [],
   "source": [
    "train_new.drop(\"OutcomeSubtype\", axis = 1, inplace = True)"
   ]
  },
  {
   "cell_type": "markdown",
   "metadata": {},
   "source": [
    "## Check AnimalType's distribution"
   ]
  },
  {
   "cell_type": "code",
   "execution_count": 19,
   "metadata": {
    "ExecuteTime": {
     "end_time": "2020-04-05T17:06:42.638892Z",
     "start_time": "2020-04-05T17:06:42.622869Z"
    }
   },
   "outputs": [
    {
     "data": {
      "text/plain": [
       "Dog    15595\n",
       "Cat    11134\n",
       "Name: AnimalType, dtype: int64"
      ]
     },
     "execution_count": 19,
     "metadata": {},
     "output_type": "execute_result"
    }
   ],
   "source": [
    "train_new[\"AnimalType\"].value_counts()"
   ]
  },
  {
   "cell_type": "markdown",
   "metadata": {},
   "source": [
    "## Check SexuponOutcome"
   ]
  },
  {
   "cell_type": "code",
   "execution_count": 20,
   "metadata": {
    "ExecuteTime": {
     "end_time": "2020-04-05T17:06:42.998058Z",
     "start_time": "2020-04-05T17:06:42.982379Z"
    }
   },
   "outputs": [
    {
     "data": {
      "text/plain": [
       "Neutered Male    9779\n",
       "Spayed Female    8820\n",
       "Intact Male      3525\n",
       "Intact Female    3511\n",
       "Unknown          1093\n",
       "Name: SexuponOutcome, dtype: int64"
      ]
     },
     "execution_count": 20,
     "metadata": {},
     "output_type": "execute_result"
    }
   ],
   "source": [
    "train_new[\"SexuponOutcome\"].value_counts()"
   ]
  },
  {
   "cell_type": "code",
   "execution_count": 21,
   "metadata": {
    "ExecuteTime": {
     "end_time": "2020-04-05T17:06:43.187274Z",
     "start_time": "2020-04-05T17:06:43.171188Z"
    }
   },
   "outputs": [
    {
     "name": "stdout",
     "output_type": "stream",
     "text": [
      "0\n",
      "1380\n"
     ]
    }
   ],
   "source": [
    "print(sum(train_new[\"Breed\"].isna()))\n",
    "print(train_new[\"Breed\"].nunique())"
   ]
  },
  {
   "cell_type": "markdown",
   "metadata": {},
   "source": [
    "## Normalize age"
   ]
  },
  {
   "cell_type": "code",
   "execution_count": 22,
   "metadata": {
    "ExecuteTime": {
     "end_time": "2020-04-05T17:06:43.638024Z",
     "start_time": "2020-04-05T17:06:43.627105Z"
    }
   },
   "outputs": [],
   "source": [
    "def clean_age(x):\n",
    "    x = str(x)\n",
    "    age_new = x\n",
    "    if x == 'nan':\n",
    "        return np.nan\n",
    "    elif (x.split(' ')[1]) in ['year','years']:\n",
    "        age_new = int(x.split(' ')[0])*365\n",
    "    elif (x.split(' ')[1]) in ['month','months']:\n",
    "        age_new = int(x.split(' ')[0])*30\n",
    "    elif (x.split(' ')[1]) in ['weeks']:\n",
    "        age_new = int(x.split(' ')[0])*7\n",
    "    else:\n",
    "        age_new =  int(x.split(' ')[0])\n",
    "    return round(age_new/365,1)"
   ]
  },
  {
   "cell_type": "code",
   "execution_count": 23,
   "metadata": {
    "ExecuteTime": {
     "end_time": "2020-04-05T17:06:44.116093Z",
     "start_time": "2020-04-05T17:06:44.033065Z"
    }
   },
   "outputs": [],
   "source": [
    "train_new['AgeuponOutcome'] = train_new['AgeuponOutcome'].apply(clean_age)\n",
    "median = np.median(train_new.loc[~(train_new['AgeuponOutcome'].isna()),'AgeuponOutcome'])\n",
    "train_new['AgeuponOutcome'] =  train_new['AgeuponOutcome'].fillna(median)"
   ]
  },
  {
   "cell_type": "code",
   "execution_count": 24,
   "metadata": {
    "ExecuteTime": {
     "end_time": "2020-04-05T17:06:44.421320Z",
     "start_time": "2020-04-05T17:06:44.405501Z"
    }
   },
   "outputs": [
    {
     "data": {
      "text/html": [
       "<div>\n",
       "<style scoped>\n",
       "    .dataframe tbody tr th:only-of-type {\n",
       "        vertical-align: middle;\n",
       "    }\n",
       "\n",
       "    .dataframe tbody tr th {\n",
       "        vertical-align: top;\n",
       "    }\n",
       "\n",
       "    .dataframe thead th {\n",
       "        text-align: right;\n",
       "    }\n",
       "</style>\n",
       "<table border=\"1\" class=\"dataframe\">\n",
       "  <thead>\n",
       "    <tr style=\"text-align: right;\">\n",
       "      <th></th>\n",
       "      <th>OutcomeType</th>\n",
       "      <th>AnimalType</th>\n",
       "      <th>SexuponOutcome</th>\n",
       "      <th>AgeuponOutcome</th>\n",
       "      <th>Breed</th>\n",
       "      <th>Color</th>\n",
       "      <th>NameFlag</th>\n",
       "    </tr>\n",
       "  </thead>\n",
       "  <tbody>\n",
       "    <tr>\n",
       "      <th>0</th>\n",
       "      <td>Return_to_owner</td>\n",
       "      <td>Dog</td>\n",
       "      <td>Neutered Male</td>\n",
       "      <td>1.0</td>\n",
       "      <td>Shetland Sheepdog Mix</td>\n",
       "      <td>Brown/White</td>\n",
       "      <td>1</td>\n",
       "    </tr>\n",
       "    <tr>\n",
       "      <th>1</th>\n",
       "      <td>Euthanasia</td>\n",
       "      <td>Cat</td>\n",
       "      <td>Spayed Female</td>\n",
       "      <td>1.0</td>\n",
       "      <td>Domestic Shorthair Mix</td>\n",
       "      <td>Cream Tabby</td>\n",
       "      <td>1</td>\n",
       "    </tr>\n",
       "    <tr>\n",
       "      <th>2</th>\n",
       "      <td>Adoption</td>\n",
       "      <td>Dog</td>\n",
       "      <td>Neutered Male</td>\n",
       "      <td>2.0</td>\n",
       "      <td>Pit Bull Mix</td>\n",
       "      <td>Blue/White</td>\n",
       "      <td>1</td>\n",
       "    </tr>\n",
       "    <tr>\n",
       "      <th>3</th>\n",
       "      <td>Transfer</td>\n",
       "      <td>Cat</td>\n",
       "      <td>Intact Male</td>\n",
       "      <td>0.1</td>\n",
       "      <td>Domestic Shorthair Mix</td>\n",
       "      <td>Blue Cream</td>\n",
       "      <td>0</td>\n",
       "    </tr>\n",
       "    <tr>\n",
       "      <th>4</th>\n",
       "      <td>Transfer</td>\n",
       "      <td>Dog</td>\n",
       "      <td>Neutered Male</td>\n",
       "      <td>2.0</td>\n",
       "      <td>Lhasa Apso/Miniature Poodle</td>\n",
       "      <td>Tan</td>\n",
       "      <td>0</td>\n",
       "    </tr>\n",
       "  </tbody>\n",
       "</table>\n",
       "</div>"
      ],
      "text/plain": [
       "       OutcomeType AnimalType SexuponOutcome  AgeuponOutcome  \\\n",
       "0  Return_to_owner        Dog  Neutered Male             1.0   \n",
       "1       Euthanasia        Cat  Spayed Female             1.0   \n",
       "2         Adoption        Dog  Neutered Male             2.0   \n",
       "3         Transfer        Cat    Intact Male             0.1   \n",
       "4         Transfer        Dog  Neutered Male             2.0   \n",
       "\n",
       "                         Breed        Color  NameFlag  \n",
       "0        Shetland Sheepdog Mix  Brown/White         1  \n",
       "1       Domestic Shorthair Mix  Cream Tabby         1  \n",
       "2                 Pit Bull Mix   Blue/White         1  \n",
       "3       Domestic Shorthair Mix   Blue Cream         0  \n",
       "4  Lhasa Apso/Miniature Poodle          Tan         0  "
      ]
     },
     "execution_count": 24,
     "metadata": {},
     "output_type": "execute_result"
    }
   ],
   "source": [
    "train_new.head()"
   ]
  },
  {
   "cell_type": "markdown",
   "metadata": {},
   "source": [
    "## Handle Breed  - Create a sparse matrix for counts and check for top features"
   ]
  },
  {
   "cell_type": "code",
   "execution_count": 95,
   "metadata": {
    "ExecuteTime": {
     "end_time": "2020-04-05T17:11:57.228024Z",
     "start_time": "2020-04-05T17:11:57.220210Z"
    }
   },
   "outputs": [],
   "source": [
    "from sklearn.feature_extraction.text import CountVectorizer\n",
    "from sklearn.linear_model import LogisticRegression\n",
    "from sklearn.model_selection import train_test_split"
   ]
  },
  {
   "cell_type": "code",
   "execution_count": 96,
   "metadata": {
    "ExecuteTime": {
     "end_time": "2020-04-05T17:11:57.403767Z",
     "start_time": "2020-04-05T17:11:57.390475Z"
    }
   },
   "outputs": [],
   "source": [
    "X_train, X_test, y_train, y_test = train_test_split(train_new[\"Breed\"], train_new[\"OutcomeType\"])"
   ]
  },
  {
   "cell_type": "code",
   "execution_count": 97,
   "metadata": {
    "ExecuteTime": {
     "end_time": "2020-04-05T17:11:57.844215Z",
     "start_time": "2020-04-05T17:11:57.561720Z"
    }
   },
   "outputs": [],
   "source": [
    "fit_v = CountVectorizer(min_df = 10, max_df = 0.8, ngram_range = (1,3)).fit(X_train)"
   ]
  },
  {
   "cell_type": "code",
   "execution_count": 98,
   "metadata": {
    "ExecuteTime": {
     "end_time": "2020-04-05T17:11:58.130964Z",
     "start_time": "2020-04-05T17:11:57.847345Z"
    }
   },
   "outputs": [],
   "source": [
    "X_train_v = fit_v.transform(X_train)\n",
    "X_test_v = fit_v.transform(X_test)"
   ]
  },
  {
   "cell_type": "code",
   "execution_count": 99,
   "metadata": {
    "ExecuteTime": {
     "end_time": "2020-04-05T17:12:00.342023Z",
     "start_time": "2020-04-05T17:11:58.133958Z"
    }
   },
   "outputs": [
    {
     "data": {
      "text/plain": [
       "LogisticRegression(C=100, class_weight=None, dual=False, fit_intercept=True,\n",
       "                   intercept_scaling=1, l1_ratio=None, max_iter=100,\n",
       "                   multi_class='ovr', n_jobs=None, penalty='l2',\n",
       "                   random_state=None, solver='liblinear', tol=0.0001, verbose=0,\n",
       "                   warm_start=False)"
      ]
     },
     "execution_count": 99,
     "metadata": {},
     "output_type": "execute_result"
    }
   ],
   "source": [
    "lr= LogisticRegression(C= 100,solver= \"liblinear\", multi_class = \"ovr\")\n",
    "lr.fit(X_train_v, y_train)"
   ]
  },
  {
   "cell_type": "code",
   "execution_count": 100,
   "metadata": {
    "ExecuteTime": {
     "end_time": "2020-04-05T17:12:00.379729Z",
     "start_time": "2020-04-05T17:12:00.347689Z"
    }
   },
   "outputs": [
    {
     "data": {
      "text/plain": [
       "0.45054616190333685"
      ]
     },
     "execution_count": 100,
     "metadata": {},
     "output_type": "execute_result"
    }
   ],
   "source": [
    "lr.score(X_test_v, y_test)"
   ]
  },
  {
   "cell_type": "markdown",
   "metadata": {},
   "source": [
    "**Top features**"
   ]
  },
  {
   "cell_type": "code",
   "execution_count": 101,
   "metadata": {
    "ExecuteTime": {
     "end_time": "2020-04-05T17:12:00.387901Z",
     "start_time": "2020-04-05T17:12:00.380758Z"
    }
   },
   "outputs": [],
   "source": [
    "args = lr.coef_[0].argsort()\n",
    "features = np.array(fit_v.get_feature_names())"
   ]
  },
  {
   "cell_type": "markdown",
   "metadata": {},
   "source": [
    "**Trying a different approach by cleaning breed**"
   ]
  },
  {
   "cell_type": "code",
   "execution_count": 102,
   "metadata": {
    "ExecuteTime": {
     "end_time": "2020-04-05T17:12:00.396451Z",
     "start_time": "2020-04-05T17:12:00.390777Z"
    }
   },
   "outputs": [],
   "source": [
    "breed = train_new[\"Breed\"]\n",
    "outcome = train_new[\"OutcomeType\"]"
   ]
  },
  {
   "cell_type": "code",
   "execution_count": 103,
   "metadata": {
    "ExecuteTime": {
     "end_time": "2020-04-05T17:12:00.404765Z",
     "start_time": "2020-04-05T17:12:00.398446Z"
    }
   },
   "outputs": [],
   "source": [
    "def identify_mix(x):\n",
    "    x = x.lower()\n",
    "    if ((\"mix\" in x)):\n",
    "        return 1\n",
    "    else: \n",
    "        return 0"
   ]
  },
  {
   "cell_type": "code",
   "execution_count": 104,
   "metadata": {
    "ExecuteTime": {
     "end_time": "2020-04-05T17:12:01.760431Z",
     "start_time": "2020-04-05T17:12:01.727024Z"
    }
   },
   "outputs": [
    {
     "data": {
      "text/plain": [
       "0.8342249990646863"
      ]
     },
     "execution_count": 104,
     "metadata": {},
     "output_type": "execute_result"
    }
   ],
   "source": [
    "breed_mix = breed.apply(identify_mix)\n",
    "np.mean(breed_mix)"
   ]
  },
  {
   "cell_type": "code",
   "execution_count": 105,
   "metadata": {
    "ExecuteTime": {
     "end_time": "2020-04-05T17:12:03.806536Z",
     "start_time": "2020-04-05T17:12:03.800353Z"
    }
   },
   "outputs": [],
   "source": [
    "def clean_breed(x):\n",
    "    x = x.lower()\n",
    "    x = x.replace(\"mix\",\"\")\n",
    "    x = x.replace(\"/\",\" \")\n",
    "    return x.strip()"
   ]
  },
  {
   "cell_type": "code",
   "execution_count": 106,
   "metadata": {
    "ExecuteTime": {
     "end_time": "2020-04-05T17:12:05.411493Z",
     "start_time": "2020-04-05T17:12:05.370680Z"
    }
   },
   "outputs": [],
   "source": [
    "breed = breed.apply(clean_breed)"
   ]
  },
  {
   "cell_type": "code",
   "execution_count": 107,
   "metadata": {
    "ExecuteTime": {
     "end_time": "2020-04-05T17:12:05.601478Z",
     "start_time": "2020-04-05T17:12:05.593196Z"
    }
   },
   "outputs": [],
   "source": [
    "from scipy.sparse import csr_matrix, hstack\n",
    "def add_feature(X, feature_to_add):\n",
    "    return hstack([X, csr_matrix(feature_to_add).T], 'csr')"
   ]
  },
  {
   "cell_type": "code",
   "execution_count": 108,
   "metadata": {
    "ExecuteTime": {
     "end_time": "2020-04-05T17:12:05.827860Z",
     "start_time": "2020-04-05T17:12:05.820080Z"
    }
   },
   "outputs": [],
   "source": [
    "breeds = pd.DataFrame({\"breed\": breed, \"mix\": breed_mix})"
   ]
  },
  {
   "cell_type": "code",
   "execution_count": 109,
   "metadata": {
    "ExecuteTime": {
     "end_time": "2020-04-05T17:12:13.671565Z",
     "start_time": "2020-04-05T17:12:13.656563Z"
    }
   },
   "outputs": [],
   "source": [
    "X_train, X_test, y_train, y_test = train_test_split(breeds, outcome)"
   ]
  },
  {
   "cell_type": "code",
   "execution_count": 110,
   "metadata": {
    "ExecuteTime": {
     "end_time": "2020-04-05T17:12:14.346650Z",
     "start_time": "2020-04-05T17:12:13.885467Z"
    }
   },
   "outputs": [],
   "source": [
    "fit_v = CountVectorizer(min_df = 10, max_df = 0.8 , ngram_range = (1,2)).fit(X_train[\"breed\"])\n",
    "X_train_v = fit_v.transform(X_train[\"breed\"])\n",
    "X_test_v = fit_v.transform(X_test[\"breed\"])"
   ]
  },
  {
   "cell_type": "code",
   "execution_count": 111,
   "metadata": {
    "ExecuteTime": {
     "end_time": "2020-04-05T17:12:14.362634Z",
     "start_time": "2020-04-05T17:12:14.347641Z"
    }
   },
   "outputs": [],
   "source": [
    "X_train_new = add_feature(X_train_v, X_train[\"mix\"])\n",
    "X_test_new = add_feature(X_test_v, X_test[\"mix\"])"
   ]
  },
  {
   "cell_type": "code",
   "execution_count": 112,
   "metadata": {
    "ExecuteTime": {
     "end_time": "2020-04-05T17:12:14.370707Z",
     "start_time": "2020-04-05T17:12:14.364654Z"
    }
   },
   "outputs": [],
   "source": [
    "lr= LogisticRegression(C=1,solver= \"liblinear\", multi_class = \"ovr\")"
   ]
  },
  {
   "cell_type": "code",
   "execution_count": 113,
   "metadata": {
    "ExecuteTime": {
     "end_time": "2020-04-05T17:12:14.836091Z",
     "start_time": "2020-04-05T17:12:14.437674Z"
    }
   },
   "outputs": [
    {
     "data": {
      "text/plain": [
       "LogisticRegression(C=1, class_weight=None, dual=False, fit_intercept=True,\n",
       "                   intercept_scaling=1, l1_ratio=None, max_iter=100,\n",
       "                   multi_class='ovr', n_jobs=None, penalty='l2',\n",
       "                   random_state=None, solver='liblinear', tol=0.0001, verbose=0,\n",
       "                   warm_start=False)"
      ]
     },
     "execution_count": 113,
     "metadata": {},
     "output_type": "execute_result"
    }
   ],
   "source": [
    "lr.fit(X_train_new, y_train)"
   ]
  },
  {
   "cell_type": "code",
   "execution_count": 114,
   "metadata": {
    "ExecuteTime": {
     "end_time": "2020-04-05T17:12:14.848615Z",
     "start_time": "2020-04-05T17:12:14.837061Z"
    }
   },
   "outputs": [
    {
     "data": {
      "text/plain": [
       "0.4480023941343708"
      ]
     },
     "execution_count": 114,
     "metadata": {},
     "output_type": "execute_result"
    }
   ],
   "source": [
    "lr.score(X_test_new, y_test)"
   ]
  },
  {
   "cell_type": "code",
   "execution_count": 115,
   "metadata": {
    "ExecuteTime": {
     "end_time": "2020-04-05T17:12:14.860364Z",
     "start_time": "2020-04-05T17:12:14.850372Z"
    }
   },
   "outputs": [
    {
     "data": {
      "text/plain": [
       "array(['bull chinese', 'weimaraner', 'bloodhound', 'retriever plott',\n",
       "       'retriever pointer', 'pekingese', 'treeing', 'german',\n",
       "       'basset hound', 'basset', 'tzu', 'shih tzu', 'shih', 'boston',\n",
       "       'boston terrier', 'retriever border', 'spaniel', 'lhasa', 'apso',\n",
       "       'lhasa apso'], dtype='<U22')"
      ]
     },
     "execution_count": 115,
     "metadata": {},
     "output_type": "execute_result"
    }
   ],
   "source": [
    "args = lr.coef_[0].argsort()\n",
    "features = np.array(fit_v.get_feature_names())\n",
    "features[args[0:20]]"
   ]
  },
  {
   "cell_type": "markdown",
   "metadata": {},
   "source": [
    "This approach adds a little benefit. We can revisit this later"
   ]
  },
  {
   "cell_type": "markdown",
   "metadata": {},
   "source": [
    "## Clean color and Vectorize"
   ]
  },
  {
   "cell_type": "code",
   "execution_count": 116,
   "metadata": {
    "ExecuteTime": {
     "end_time": "2020-04-05T17:12:20.916638Z",
     "start_time": "2020-04-05T17:12:20.910175Z"
    }
   },
   "outputs": [],
   "source": [
    "def clean_color(x):\n",
    "    return x.replace(\"/\",\" \")"
   ]
  },
  {
   "cell_type": "code",
   "execution_count": 117,
   "metadata": {
    "ExecuteTime": {
     "end_time": "2020-04-05T17:12:21.134328Z",
     "start_time": "2020-04-05T17:12:21.113868Z"
    }
   },
   "outputs": [],
   "source": [
    "train_new[\"Color\"] = train_new[\"Color\"].apply(clean_color)"
   ]
  },
  {
   "cell_type": "code",
   "execution_count": 118,
   "metadata": {
    "ExecuteTime": {
     "end_time": "2020-04-05T17:12:21.305708Z",
     "start_time": "2020-04-05T17:12:21.298506Z"
    }
   },
   "outputs": [],
   "source": [
    "colors = train_new[\"Color\"]"
   ]
  },
  {
   "cell_type": "code",
   "execution_count": 119,
   "metadata": {
    "ExecuteTime": {
     "end_time": "2020-04-05T17:12:21.477589Z",
     "start_time": "2020-04-05T17:12:21.466038Z"
    }
   },
   "outputs": [],
   "source": [
    "X_train, X_test, y_train, y_test = train_test_split(colors, outcome)"
   ]
  },
  {
   "cell_type": "code",
   "execution_count": 120,
   "metadata": {
    "ExecuteTime": {
     "end_time": "2020-04-05T17:12:21.928742Z",
     "start_time": "2020-04-05T17:12:21.638742Z"
    }
   },
   "outputs": [],
   "source": [
    "fit_c = CountVectorizer(min_df = 10, max_df = 0.8).fit(colors)\n",
    "X_train_v = fit_c.transform(X_train)\n",
    "X_test_v = fit_c.transform(X_test)"
   ]
  },
  {
   "cell_type": "code",
   "execution_count": 121,
   "metadata": {
    "ExecuteTime": {
     "end_time": "2020-04-05T17:12:22.194229Z",
     "start_time": "2020-04-05T17:12:21.931516Z"
    }
   },
   "outputs": [
    {
     "data": {
      "text/plain": [
       "LogisticRegression(C=1, class_weight=None, dual=False, fit_intercept=True,\n",
       "                   intercept_scaling=1, l1_ratio=None, max_iter=100,\n",
       "                   multi_class='ovr', n_jobs=None, penalty='l2',\n",
       "                   random_state=None, solver='liblinear', tol=0.0001, verbose=0,\n",
       "                   warm_start=False)"
      ]
     },
     "execution_count": 121,
     "metadata": {},
     "output_type": "execute_result"
    }
   ],
   "source": [
    "lr= LogisticRegression(C=1,solver= \"liblinear\", multi_class = \"ovr\")\n",
    "lr.fit(X_train_v, y_train)"
   ]
  },
  {
   "cell_type": "code",
   "execution_count": 122,
   "metadata": {
    "ExecuteTime": {
     "end_time": "2020-04-05T17:12:22.201801Z",
     "start_time": "2020-04-05T17:12:22.195816Z"
    }
   },
   "outputs": [
    {
     "data": {
      "text/plain": [
       "(20046, 33)"
      ]
     },
     "execution_count": 122,
     "metadata": {},
     "output_type": "execute_result"
    }
   ],
   "source": [
    "X_train_v.shape"
   ]
  },
  {
   "cell_type": "code",
   "execution_count": 123,
   "metadata": {
    "ExecuteTime": {
     "end_time": "2020-04-05T17:12:22.219332Z",
     "start_time": "2020-04-05T17:12:22.202896Z"
    }
   },
   "outputs": [
    {
     "data": {
      "text/plain": [
       "0.4345353882986683"
      ]
     },
     "execution_count": 123,
     "metadata": {},
     "output_type": "execute_result"
    }
   ],
   "source": [
    "lr.score(X_test_v, y_test)"
   ]
  },
  {
   "cell_type": "code",
   "execution_count": 124,
   "metadata": {
    "ExecuteTime": {
     "end_time": "2020-04-05T17:12:22.799201Z",
     "start_time": "2020-04-05T17:12:22.778762Z"
    }
   },
   "outputs": [
    {
     "data": {
      "text/html": [
       "<div>\n",
       "<style scoped>\n",
       "    .dataframe tbody tr th:only-of-type {\n",
       "        vertical-align: middle;\n",
       "    }\n",
       "\n",
       "    .dataframe tbody tr th {\n",
       "        vertical-align: top;\n",
       "    }\n",
       "\n",
       "    .dataframe thead th {\n",
       "        text-align: right;\n",
       "    }\n",
       "</style>\n",
       "<table border=\"1\" class=\"dataframe\">\n",
       "  <thead>\n",
       "    <tr style=\"text-align: right;\">\n",
       "      <th></th>\n",
       "      <th>OutcomeType</th>\n",
       "      <th>AnimalType</th>\n",
       "      <th>SexuponOutcome</th>\n",
       "      <th>AgeuponOutcome</th>\n",
       "      <th>Breed</th>\n",
       "      <th>Color</th>\n",
       "      <th>NameFlag</th>\n",
       "    </tr>\n",
       "  </thead>\n",
       "  <tbody>\n",
       "    <tr>\n",
       "      <th>0</th>\n",
       "      <td>Return_to_owner</td>\n",
       "      <td>Dog</td>\n",
       "      <td>Neutered Male</td>\n",
       "      <td>1.0</td>\n",
       "      <td>Shetland Sheepdog Mix</td>\n",
       "      <td>Brown White</td>\n",
       "      <td>1</td>\n",
       "    </tr>\n",
       "    <tr>\n",
       "      <th>1</th>\n",
       "      <td>Euthanasia</td>\n",
       "      <td>Cat</td>\n",
       "      <td>Spayed Female</td>\n",
       "      <td>1.0</td>\n",
       "      <td>Domestic Shorthair Mix</td>\n",
       "      <td>Cream Tabby</td>\n",
       "      <td>1</td>\n",
       "    </tr>\n",
       "    <tr>\n",
       "      <th>2</th>\n",
       "      <td>Adoption</td>\n",
       "      <td>Dog</td>\n",
       "      <td>Neutered Male</td>\n",
       "      <td>2.0</td>\n",
       "      <td>Pit Bull Mix</td>\n",
       "      <td>Blue White</td>\n",
       "      <td>1</td>\n",
       "    </tr>\n",
       "    <tr>\n",
       "      <th>3</th>\n",
       "      <td>Transfer</td>\n",
       "      <td>Cat</td>\n",
       "      <td>Intact Male</td>\n",
       "      <td>0.1</td>\n",
       "      <td>Domestic Shorthair Mix</td>\n",
       "      <td>Blue Cream</td>\n",
       "      <td>0</td>\n",
       "    </tr>\n",
       "    <tr>\n",
       "      <th>4</th>\n",
       "      <td>Transfer</td>\n",
       "      <td>Dog</td>\n",
       "      <td>Neutered Male</td>\n",
       "      <td>2.0</td>\n",
       "      <td>Lhasa Apso/Miniature Poodle</td>\n",
       "      <td>Tan</td>\n",
       "      <td>0</td>\n",
       "    </tr>\n",
       "  </tbody>\n",
       "</table>\n",
       "</div>"
      ],
      "text/plain": [
       "       OutcomeType AnimalType SexuponOutcome  AgeuponOutcome  \\\n",
       "0  Return_to_owner        Dog  Neutered Male             1.0   \n",
       "1       Euthanasia        Cat  Spayed Female             1.0   \n",
       "2         Adoption        Dog  Neutered Male             2.0   \n",
       "3         Transfer        Cat    Intact Male             0.1   \n",
       "4         Transfer        Dog  Neutered Male             2.0   \n",
       "\n",
       "                         Breed        Color  NameFlag  \n",
       "0        Shetland Sheepdog Mix  Brown White         1  \n",
       "1       Domestic Shorthair Mix  Cream Tabby         1  \n",
       "2                 Pit Bull Mix   Blue White         1  \n",
       "3       Domestic Shorthair Mix   Blue Cream         0  \n",
       "4  Lhasa Apso/Miniature Poodle          Tan         0  "
      ]
     },
     "execution_count": 124,
     "metadata": {},
     "output_type": "execute_result"
    }
   ],
   "source": [
    "train_new.head()"
   ]
  },
  {
   "cell_type": "markdown",
   "metadata": {},
   "source": [
    "## Create sparse matrix with all the features"
   ]
  },
  {
   "cell_type": "code",
   "execution_count": 128,
   "metadata": {
    "ExecuteTime": {
     "end_time": "2020-04-05T17:12:47.617552Z",
     "start_time": "2020-04-05T17:12:47.613798Z"
    }
   },
   "outputs": [],
   "source": [
    "y = train_new[\"OutcomeType\"]"
   ]
  },
  {
   "cell_type": "code",
   "execution_count": 129,
   "metadata": {
    "ExecuteTime": {
     "end_time": "2020-04-05T17:12:47.814297Z",
     "start_time": "2020-04-05T17:12:47.805118Z"
    }
   },
   "outputs": [],
   "source": [
    "dog = list(pd.get_dummies(train_new[\"AnimalType\"], drop_first = True))"
   ]
  },
  {
   "cell_type": "code",
   "execution_count": 130,
   "metadata": {
    "ExecuteTime": {
     "end_time": "2020-04-05T17:12:48.006243Z",
     "start_time": "2020-04-05T17:12:47.998584Z"
    }
   },
   "outputs": [],
   "source": [
    "dog = pd.get_dummies(train_new[\"AnimalType\"], drop_first = True).values\n",
    "dog = dog[:,0]"
   ]
  },
  {
   "cell_type": "code",
   "execution_count": 131,
   "metadata": {
    "ExecuteTime": {
     "end_time": "2020-04-05T17:12:48.205352Z",
     "start_time": "2020-04-05T17:12:48.194209Z"
    }
   },
   "outputs": [],
   "source": [
    "#We do not use the unknown sex\n",
    "X =pd.get_dummies(train_new[\"SexuponOutcome\"]).values"
   ]
  },
  {
   "cell_type": "code",
   "execution_count": 132,
   "metadata": {
    "ExecuteTime": {
     "end_time": "2020-04-05T17:12:48.400441Z",
     "start_time": "2020-04-05T17:12:48.394182Z"
    }
   },
   "outputs": [],
   "source": [
    "in_f, in_m, n_m, s_f, u_f = X[:,0], X[:,1], X[:,2], X[:,3], X[:,4]"
   ]
  },
  {
   "cell_type": "code",
   "execution_count": 133,
   "metadata": {
    "ExecuteTime": {
     "end_time": "2020-04-05T17:12:48.599670Z",
     "start_time": "2020-04-05T17:12:48.591649Z"
    }
   },
   "outputs": [],
   "source": [
    "age = train_new[\"AgeuponOutcome\"]"
   ]
  },
  {
   "cell_type": "code",
   "execution_count": 134,
   "metadata": {
    "ExecuteTime": {
     "end_time": "2020-04-05T17:12:48.795586Z",
     "start_time": "2020-04-05T17:12:48.789383Z"
    }
   },
   "outputs": [],
   "source": [
    "name = train_new[\"NameFlag\"]"
   ]
  },
  {
   "cell_type": "code",
   "execution_count": 135,
   "metadata": {
    "ExecuteTime": {
     "end_time": "2020-04-05T17:12:49.046293Z",
     "start_time": "2020-04-05T17:12:48.994683Z"
    }
   },
   "outputs": [],
   "source": [
    "breed = train_new[\"Breed\"]\n",
    "breed_mix = breed.apply(identify_mix)\n",
    "breed = breed.apply(clean_breed)\n",
    "breeds = pd.DataFrame({\"breed\": breed, \"mix\": breed_mix})"
   ]
  },
  {
   "cell_type": "code",
   "execution_count": 136,
   "metadata": {
    "ExecuteTime": {
     "end_time": "2020-04-05T17:12:49.205861Z",
     "start_time": "2020-04-05T17:12:49.200327Z"
    }
   },
   "outputs": [],
   "source": [
    "dict = {\"breed\": breed, \"mix\": breed_mix, \"dog_f\":dog, \"intact_male\":in_m, \"intact_female\":in_f, \"neutered_m\":n_m, \"spayed_f\":s_f, \"age\":age, \"name_f\":name}"
   ]
  },
  {
   "cell_type": "code",
   "execution_count": 137,
   "metadata": {
    "ExecuteTime": {
     "end_time": "2020-04-05T17:12:49.436416Z",
     "start_time": "2020-04-05T17:12:49.427499Z"
    }
   },
   "outputs": [],
   "source": [
    "train_final = pd.DataFrame(dict)"
   ]
  },
  {
   "cell_type": "code",
   "execution_count": 138,
   "metadata": {
    "ExecuteTime": {
     "end_time": "2020-04-05T17:12:49.897039Z",
     "start_time": "2020-04-05T17:12:49.885674Z"
    }
   },
   "outputs": [],
   "source": [
    "X_train, X_test, y_train, y_test = train_test_split(train_final, outcome)"
   ]
  },
  {
   "cell_type": "code",
   "execution_count": 139,
   "metadata": {
    "ExecuteTime": {
     "end_time": "2020-04-05T17:12:50.475211Z",
     "start_time": "2020-04-05T17:12:50.123401Z"
    }
   },
   "outputs": [],
   "source": [
    "fit_v = CountVectorizer(min_df = 20, max_df = 0.8).fit(X_train[\"breed\"])\n",
    "X_train_v = fit_v.transform(X_train[\"breed\"])\n",
    "X_test_v = fit_v.transform(X_test[\"breed\"])"
   ]
  },
  {
   "cell_type": "code",
   "execution_count": 140,
   "metadata": {
    "ExecuteTime": {
     "end_time": "2020-04-05T17:12:50.500054Z",
     "start_time": "2020-04-05T17:12:50.482911Z"
    }
   },
   "outputs": [
    {
     "data": {
      "text/plain": [
       "(20046, 113)"
      ]
     },
     "execution_count": 140,
     "metadata": {},
     "output_type": "execute_result"
    }
   ],
   "source": [
    "X_train_v.shape"
   ]
  },
  {
   "cell_type": "code",
   "execution_count": 141,
   "metadata": {
    "ExecuteTime": {
     "end_time": "2020-04-05T17:12:50.572562Z",
     "start_time": "2020-04-05T17:12:50.564561Z"
    }
   },
   "outputs": [
    {
     "data": {
      "text/plain": [
       "Adoption           10769\n",
       "Transfer            9422\n",
       "Return_to_owner     4786\n",
       "Euthanasia          1555\n",
       "Died                 197\n",
       "Name: OutcomeType, dtype: int64"
      ]
     },
     "execution_count": 141,
     "metadata": {},
     "output_type": "execute_result"
    }
   ],
   "source": [
    "outcome.value_counts()"
   ]
  },
  {
   "cell_type": "code",
   "execution_count": 142,
   "metadata": {
    "ExecuteTime": {
     "end_time": "2020-04-05T17:12:51.121228Z",
     "start_time": "2020-04-05T17:12:51.072555Z"
    }
   },
   "outputs": [],
   "source": [
    "X_train_v  = add_feature(X_train_v, X_train[\"mix\"])\n",
    "X_train_v  = add_feature(X_train_v, X_train[\"dog_f\"])\n",
    "X_train_v  = add_feature(X_train_v, X_train[\"intact_male\"])\n",
    "X_train_v  = add_feature(X_train_v, X_train[\"intact_female\"])\n",
    "X_train_v  = add_feature(X_train_v, X_train[\"neutered_m\"])\n",
    "X_train_v  = add_feature(X_train_v, X_train[\"spayed_f\"])\n",
    "X_train_v  = add_feature(X_train_v, X_train[\"age\"])\n",
    "X_train_v  = add_feature(X_train_v, X_train[\"name_f\"])"
   ]
  },
  {
   "cell_type": "code",
   "execution_count": 143,
   "metadata": {
    "ExecuteTime": {
     "end_time": "2020-04-05T17:12:51.572107Z",
     "start_time": "2020-04-05T17:12:51.562888Z"
    }
   },
   "outputs": [
    {
     "data": {
      "text/plain": [
       "(20046, 121)"
      ]
     },
     "execution_count": 143,
     "metadata": {},
     "output_type": "execute_result"
    }
   ],
   "source": [
    "X_train_v.shape"
   ]
  },
  {
   "cell_type": "code",
   "execution_count": 144,
   "metadata": {
    "ExecuteTime": {
     "end_time": "2020-04-05T17:12:52.058059Z",
     "start_time": "2020-04-05T17:12:52.032425Z"
    }
   },
   "outputs": [],
   "source": [
    "X_test_v  = add_feature(X_test_v, X_test[\"mix\"])\n",
    "X_test_v  = add_feature(X_test_v, X_test[\"dog_f\"])\n",
    "X_test_v  = add_feature(X_test_v, X_test[\"intact_male\"])\n",
    "X_test_v  = add_feature(X_test_v, X_test[\"intact_female\"])\n",
    "X_test_v  = add_feature(X_test_v, X_test[\"neutered_m\"])\n",
    "X_test_v  = add_feature(X_test_v, X_test[\"spayed_f\"])\n",
    "X_test_v  = add_feature(X_test_v, X_test[\"age\"])\n",
    "X_test_v  = add_feature(X_test_v, X_test[\"name_f\"])"
   ]
  },
  {
   "cell_type": "markdown",
   "metadata": {
    "ExecuteTime": {
     "end_time": "2020-04-05T17:10:07.311621Z",
     "start_time": "2020-04-05T17:10:07.303857Z"
    }
   },
   "source": [
    "# Testing Basic Models"
   ]
  },
  {
   "cell_type": "markdown",
   "metadata": {
    "ExecuteTime": {
     "end_time": "2020-04-05T17:13:06.909857Z",
     "start_time": "2020-04-05T17:13:06.903374Z"
    }
   },
   "source": [
    "## Logistic Regression"
   ]
  },
  {
   "cell_type": "code",
   "execution_count": 152,
   "metadata": {
    "ExecuteTime": {
     "end_time": "2020-04-05T17:13:11.500645Z",
     "start_time": "2020-04-05T17:13:10.834982Z"
    }
   },
   "outputs": [
    {
     "data": {
      "text/plain": [
       "LogisticRegression(C=1, class_weight=None, dual=False, fit_intercept=True,\n",
       "                   intercept_scaling=1, l1_ratio=None, max_iter=100,\n",
       "                   multi_class='ovr', n_jobs=None, penalty='l2',\n",
       "                   random_state=None, solver='liblinear', tol=0.0001, verbose=0,\n",
       "                   warm_start=False)"
      ]
     },
     "execution_count": 152,
     "metadata": {},
     "output_type": "execute_result"
    }
   ],
   "source": [
    "lr.fit(X_train_v, y_train)"
   ]
  },
  {
   "cell_type": "code",
   "execution_count": 153,
   "metadata": {
    "ExecuteTime": {
     "end_time": "2020-04-05T17:13:11.516837Z",
     "start_time": "2020-04-05T17:13:11.503791Z"
    }
   },
   "outputs": [
    {
     "data": {
      "text/plain": [
       "0.6423761783630106"
      ]
     },
     "execution_count": 153,
     "metadata": {},
     "output_type": "execute_result"
    }
   ],
   "source": [
    "lr.score(X_test_v, y_test)"
   ]
  },
  {
   "cell_type": "code",
   "execution_count": 154,
   "metadata": {
    "ExecuteTime": {
     "end_time": "2020-04-05T17:13:12.473564Z",
     "start_time": "2020-04-05T17:13:12.122532Z"
    }
   },
   "outputs": [
    {
     "data": {
      "text/plain": [
       "LogisticRegression(C=1, class_weight=None, dual=False, fit_intercept=True,\n",
       "                   intercept_scaling=1, l1_ratio=None, max_iter=100,\n",
       "                   multi_class='ovr', n_jobs=None, penalty='l2',\n",
       "                   random_state=None, solver='liblinear', tol=0.0001, verbose=0,\n",
       "                   warm_start=False)"
      ]
     },
     "execution_count": 154,
     "metadata": {},
     "output_type": "execute_result"
    }
   ],
   "source": [
    "lr.fit(X_train.iloc[:,1:],y_train)"
   ]
  },
  {
   "cell_type": "code",
   "execution_count": 155,
   "metadata": {
    "ExecuteTime": {
     "end_time": "2020-04-05T17:13:12.688481Z",
     "start_time": "2020-04-05T17:13:12.668241Z"
    }
   },
   "outputs": [
    {
     "data": {
      "text/plain": [
       "0.6368397426305551"
      ]
     },
     "execution_count": 155,
     "metadata": {},
     "output_type": "execute_result"
    }
   ],
   "source": [
    "lr.score(X_test.iloc[:,1:], y_test)"
   ]
  },
  {
   "cell_type": "markdown",
   "metadata": {},
   "source": [
    "## Naive Bayes"
   ]
  },
  {
   "cell_type": "code",
   "execution_count": 156,
   "metadata": {
    "ExecuteTime": {
     "end_time": "2020-04-05T17:13:21.611261Z",
     "start_time": "2020-04-05T17:13:21.604890Z"
    }
   },
   "outputs": [],
   "source": [
    "from sklearn.naive_bayes import MultinomialNB"
   ]
  },
  {
   "cell_type": "code",
   "execution_count": 157,
   "metadata": {
    "ExecuteTime": {
     "end_time": "2020-04-05T17:13:21.867772Z",
     "start_time": "2020-04-05T17:13:21.862576Z"
    }
   },
   "outputs": [],
   "source": [
    "nb = MultinomialNB(alpha = 0.01)"
   ]
  },
  {
   "cell_type": "code",
   "execution_count": 158,
   "metadata": {
    "ExecuteTime": {
     "end_time": "2020-04-05T17:13:22.159538Z",
     "start_time": "2020-04-05T17:13:22.087655Z"
    }
   },
   "outputs": [
    {
     "data": {
      "text/plain": [
       "MultinomialNB(alpha=0.01, class_prior=None, fit_prior=True)"
      ]
     },
     "execution_count": 158,
     "metadata": {},
     "output_type": "execute_result"
    }
   ],
   "source": [
    "nb.fit(X_train_v, y_train)"
   ]
  },
  {
   "cell_type": "code",
   "execution_count": 159,
   "metadata": {
    "ExecuteTime": {
     "end_time": "2020-04-05T17:13:22.316322Z",
     "start_time": "2020-04-05T17:13:22.301725Z"
    }
   },
   "outputs": [
    {
     "data": {
      "text/plain": [
       "0.6149932664970822"
      ]
     },
     "execution_count": 159,
     "metadata": {},
     "output_type": "execute_result"
    }
   ],
   "source": [
    "nb.score(X_test_v, y_test)"
   ]
  },
  {
   "cell_type": "markdown",
   "metadata": {},
   "source": [
    "## SVM"
   ]
  },
  {
   "cell_type": "code",
   "execution_count": 161,
   "metadata": {
    "ExecuteTime": {
     "end_time": "2020-04-05T17:13:30.548757Z",
     "start_time": "2020-04-05T17:13:30.544666Z"
    }
   },
   "outputs": [],
   "source": [
    "from sklearn.svm import SVC"
   ]
  },
  {
   "cell_type": "code",
   "execution_count": 162,
   "metadata": {
    "ExecuteTime": {
     "end_time": "2020-04-05T17:13:30.778741Z",
     "start_time": "2020-04-05T17:13:30.774934Z"
    }
   },
   "outputs": [],
   "source": [
    "svm = SVC(C=0.1, gamma = \"scale\", cache_size = 600)"
   ]
  },
  {
   "cell_type": "code",
   "execution_count": 163,
   "metadata": {
    "ExecuteTime": {
     "end_time": "2020-04-05T17:14:15.856046Z",
     "start_time": "2020-04-05T17:13:30.979248Z"
    }
   },
   "outputs": [
    {
     "data": {
      "text/plain": [
       "SVC(C=0.1, break_ties=False, cache_size=600, class_weight=None, coef0=0.0,\n",
       "    decision_function_shape='ovr', degree=3, gamma='scale', kernel='rbf',\n",
       "    max_iter=-1, probability=False, random_state=None, shrinking=True,\n",
       "    tol=0.001, verbose=False)"
      ]
     },
     "execution_count": 163,
     "metadata": {},
     "output_type": "execute_result"
    }
   ],
   "source": [
    "svm.fit(X_train_v, y_train)"
   ]
  },
  {
   "cell_type": "markdown",
   "metadata": {},
   "source": [
    "## Tree based models - Random Forest and AdaBoost"
   ]
  },
  {
   "cell_type": "code",
   "execution_count": 165,
   "metadata": {
    "ExecuteTime": {
     "end_time": "2020-04-05T17:14:16.568113Z",
     "start_time": "2020-04-05T17:14:16.555567Z"
    }
   },
   "outputs": [],
   "source": [
    "from sklearn.ensemble import RandomForestClassifier, AdaBoostClassifier"
   ]
  },
  {
   "cell_type": "code",
   "execution_count": 166,
   "metadata": {
    "ExecuteTime": {
     "end_time": "2020-04-05T17:14:16.587823Z",
     "start_time": "2020-04-05T17:14:16.577335Z"
    }
   },
   "outputs": [],
   "source": [
    "rf = RandomForestClassifier(n_estimators = 100)"
   ]
  },
  {
   "cell_type": "code",
   "execution_count": 168,
   "metadata": {
    "ExecuteTime": {
     "end_time": "2020-04-05T17:15:03.322340Z",
     "start_time": "2020-04-05T17:14:36.276875Z"
    }
   },
   "outputs": [
    {
     "data": {
      "text/plain": [
       "0.6173874008678737"
      ]
     },
     "execution_count": 168,
     "metadata": {},
     "output_type": "execute_result"
    }
   ],
   "source": [
    "rf.fit(X_train_v, y_train)\n",
    "rf.score(X_test_v, y_test)"
   ]
  },
  {
   "cell_type": "code",
   "execution_count": 169,
   "metadata": {
    "ExecuteTime": {
     "end_time": "2020-04-05T17:15:03.330962Z",
     "start_time": "2020-04-05T17:15:03.323662Z"
    }
   },
   "outputs": [],
   "source": [
    "ada = AdaBoostClassifier(n_estimators = 50)"
   ]
  },
  {
   "cell_type": "code",
   "execution_count": 170,
   "metadata": {
    "ExecuteTime": {
     "end_time": "2020-04-05T17:15:05.887140Z",
     "start_time": "2020-04-05T17:15:03.337886Z"
    }
   },
   "outputs": [
    {
     "data": {
      "text/plain": [
       "AdaBoostClassifier(algorithm='SAMME.R', base_estimator=None, learning_rate=1.0,\n",
       "                   n_estimators=50, random_state=None)"
      ]
     },
     "execution_count": 170,
     "metadata": {},
     "output_type": "execute_result"
    }
   ],
   "source": [
    "ada.fit(X_train_v, y_train)"
   ]
  },
  {
   "cell_type": "code",
   "execution_count": 172,
   "metadata": {
    "ExecuteTime": {
     "end_time": "2020-04-05T17:23:08.001816Z",
     "start_time": "2020-04-05T17:23:07.920733Z"
    }
   },
   "outputs": [
    {
     "data": {
      "text/plain": [
       "0.6185844680532695"
      ]
     },
     "execution_count": 172,
     "metadata": {},
     "output_type": "execute_result"
    }
   ],
   "source": [
    "ada.score(X_test_v, y_test)"
   ]
  }
 ],
 "metadata": {
  "kernelspec": {
   "display_name": "Python 3",
   "language": "python",
   "name": "python3"
  },
  "language_info": {
   "codemirror_mode": {
    "name": "ipython",
    "version": 3
   },
   "file_extension": ".py",
   "mimetype": "text/x-python",
   "name": "python",
   "nbconvert_exporter": "python",
   "pygments_lexer": "ipython3",
   "version": "3.7.6"
  },
  "toc": {
   "base_numbering": 1,
   "nav_menu": {},
   "number_sections": true,
   "sideBar": true,
   "skip_h1_title": false,
   "title_cell": "Table of Contents",
   "title_sidebar": "Contents",
   "toc_cell": false,
   "toc_position": {},
   "toc_section_display": true,
   "toc_window_display": false
  }
 },
 "nbformat": 4,
 "nbformat_minor": 2
}
